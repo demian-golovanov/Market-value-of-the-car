{
 "cells": [
  {
   "cell_type": "markdown",
   "id": "d35b5dd5",
   "metadata": {},
   "source": [
    "<h1> Рыночная стоимость автомобиля"
   ]
  },
  {
   "cell_type": "markdown",
   "id": "43e612d9",
   "metadata": {},
   "source": [
    "**Описание проекта:**"
   ]
  },
  {
   "cell_type": "markdown",
   "id": "2e49dc46",
   "metadata": {},
   "source": [
    "Сервис по продаже автомобилей с пробегом «Не бит, не крашен» разрабатывает приложение, чтобы привлечь новых клиентов. В нём можно будет узнать рыночную стоимость своего автомобиля."
   ]
  },
  {
   "cell_type": "markdown",
   "id": "2df8f679",
   "metadata": {},
   "source": [
    "**Цель проекта:**"
   ]
  },
  {
   "cell_type": "markdown",
   "id": "bdef6a4a",
   "metadata": {},
   "source": [
    "Построить модель, которая умеет определять рыночную стоимость автомобиля. В нашем распоряжении данные о технических характеристиках, комплектации и ценах других автомобилей.\n",
    "\n",
    "Критерии, которые важны заказчику:\n",
    "\n",
    "- Качество предсказания\n",
    "- Время обучения модели\n",
    "- Время предсказания модели\n",
    "\n",
    "Примечания:\n",
    "\n",
    "- Значение метрики RMSE должно быть меньше 2500"
   ]
  },
  {
   "cell_type": "markdown",
   "id": "191b7e9b",
   "metadata": {},
   "source": [
    "**Описание данных:**"
   ]
  },
  {
   "cell_type": "markdown",
   "id": "91492bfc",
   "metadata": {},
   "source": [
    "Данные находятся в файле `/datasets/autos.csv`.\n",
    "\n",
    "***Признаки:***\n",
    "\n",
    "- DateCrawled — дата скачивания анкеты из базы\n",
    "- VehicleType — тип автомобильного кузова\n",
    "- RegistrationYear — год регистрации автомобиля\n",
    "- Gearbox — тип коробки передач\n",
    "- Power — мощность (л. с.)\n",
    "- Model — модель автомобиля\n",
    "- Kilometer — пробег (км)\n",
    "- RegistrationMonth — месяц регистрации автомобиля\n",
    "- FuelType — тип топлива\n",
    "- Brand — марка автомобиля\n",
    "- Repaired — была машина в ремонте или нет\n",
    "- DateCreated — дата создания анкеты\n",
    "- NumberOfPictures — количество фотографий автомобиля\n",
    "- PostalCode — почтовый индекс владельца анкеты (пользователя)\n",
    "- LastSeen — дата последней активности пользователя\n",
    "\n",
    "***Целевой признак:***\n",
    "\n",
    "- Price — цена (евро)"
   ]
  },
  {
   "cell_type": "markdown",
   "id": "93b05187",
   "metadata": {},
   "source": [
    "**Этапы проекта:**"
   ]
  },
  {
   "cell_type": "markdown",
   "id": "83be1f82",
   "metadata": {},
   "source": [
    "1. [Загрузка данных](#1)\n",
    "\n",
    "2. [Предобработка данных](#2)\n",
    "\n",
    "3. [Машинное обучение](#3)\n",
    "\n",
    "4. [Вывод](#4)"
   ]
  },
  {
   "cell_type": "markdown",
   "id": "4f6f47bc",
   "metadata": {},
   "source": [
    "<a id='1'></a>"
   ]
  },
  {
   "cell_type": "markdown",
   "id": "957683b1-a957-42a3-a830-4733afcba491",
   "metadata": {},
   "source": [
    "<h2> Загрузка данных"
   ]
  },
  {
   "cell_type": "markdown",
   "id": "881d398b",
   "metadata": {},
   "source": [
    "Импортируем необходимые библиотеки для работы. Считаем данные из csv-файла в переменную `df` и изучим их.\n",
    "\n",
    "Путь к файлу: `/datasets/autos.csv`"
   ]
  },
  {
   "cell_type": "code",
   "execution_count": 1,
   "id": "98148e36-9e90-4be3-859e-58bd4de105fc",
   "metadata": {},
   "outputs": [],
   "source": [
    "# импорты из стандартной библиотеки\n",
    "import math\n",
    "import warnings\n",
    "import time\n",
    "import optuna\n",
    "import datetime\n",
    "\n",
    "# импорты сторонних библиотек\n",
    "import pandas as pd\n",
    "import numpy as np\n",
    "import seaborn as sns\n",
    "import matplotlib.pyplot as plt\n",
    "\n",
    "# импорты модулей текущего проекта\n",
    "from skimpy import clean_columns\n",
    "from tabulate import tabulate\n",
    "from sklearn.model_selection import train_test_split, cross_val_score, KFold\n",
    "from sklearn.linear_model import LinearRegression, Ridge, Lasso\n",
    "from catboost import CatBoostRegressor\n",
    "from sklearn.preprocessing import StandardScaler, OneHotEncoder\n",
    "from sklearn.metrics import mean_squared_error as mse, make_scorer\n",
    "from sklearn.ensemble import RandomForestRegressor\n",
    "from lightgbm.sklearn import LGBMRegressor\n",
    "from sklearn.dummy import DummyRegressor\n",
    "\n",
    "# настройки\n",
    "warnings.filterwarnings('ignore')\n",
    "sns.set_style(\"darkgrid\")\n",
    "optuna.logging.set_verbosity(optuna.logging.WARNING)\n",
    "pd.set_option('display.max_colwidth', 100)\n",
    "\n",
    "# константы\n",
    "SEED = 12345"
   ]
  },
  {
   "cell_type": "code",
   "execution_count": 2,
   "id": "9fd3426c-2046-4070-8e11-e4630455d0f9",
   "metadata": {},
   "outputs": [],
   "source": [
    "try:\n",
    "    df = pd.read_csv('C:/jup/autos.csv')\n",
    "except:\n",
    "    df = pd.read_csv('/datasets/autos.csv')"
   ]
  },
  {
   "cell_type": "code",
   "execution_count": 3,
   "id": "0c7542de-b8d6-46d8-8af3-f104901b18ae",
   "metadata": {},
   "outputs": [
    {
     "name": "stdout",
     "output_type": "stream",
     "text": [
      "<class 'pandas.core.frame.DataFrame'>\n",
      "RangeIndex: 354369 entries, 0 to 354368\n",
      "Data columns (total 16 columns):\n",
      " #   Column             Non-Null Count   Dtype \n",
      "---  ------             --------------   ----- \n",
      " 0   DateCrawled        354369 non-null  object\n",
      " 1   Price              354369 non-null  int64 \n",
      " 2   VehicleType        316879 non-null  object\n",
      " 3   RegistrationYear   354369 non-null  int64 \n",
      " 4   Gearbox            334536 non-null  object\n",
      " 5   Power              354369 non-null  int64 \n",
      " 6   Model              334664 non-null  object\n",
      " 7   Kilometer          354369 non-null  int64 \n",
      " 8   RegistrationMonth  354369 non-null  int64 \n",
      " 9   FuelType           321474 non-null  object\n",
      " 10  Brand              354369 non-null  object\n",
      " 11  Repaired           283215 non-null  object\n",
      " 12  DateCreated        354369 non-null  object\n",
      " 13  NumberOfPictures   354369 non-null  int64 \n",
      " 14  PostalCode         354369 non-null  int64 \n",
      " 15  LastSeen           354369 non-null  object\n",
      "dtypes: int64(7), object(9)\n",
      "memory usage: 43.3+ MB\n"
     ]
    },
    {
     "data": {
      "text/plain": [
       "None"
      ]
     },
     "metadata": {},
     "output_type": "display_data"
    },
    {
     "data": {
      "text/html": [
       "<div>\n",
       "<style scoped>\n",
       "    .dataframe tbody tr th:only-of-type {\n",
       "        vertical-align: middle;\n",
       "    }\n",
       "\n",
       "    .dataframe tbody tr th {\n",
       "        vertical-align: top;\n",
       "    }\n",
       "\n",
       "    .dataframe thead th {\n",
       "        text-align: right;\n",
       "    }\n",
       "</style>\n",
       "<table border=\"1\" class=\"dataframe\">\n",
       "  <thead>\n",
       "    <tr style=\"text-align: right;\">\n",
       "      <th></th>\n",
       "      <th>DateCrawled</th>\n",
       "      <th>Price</th>\n",
       "      <th>VehicleType</th>\n",
       "      <th>RegistrationYear</th>\n",
       "      <th>Gearbox</th>\n",
       "      <th>Power</th>\n",
       "      <th>Model</th>\n",
       "      <th>Kilometer</th>\n",
       "      <th>RegistrationMonth</th>\n",
       "      <th>FuelType</th>\n",
       "      <th>Brand</th>\n",
       "      <th>Repaired</th>\n",
       "      <th>DateCreated</th>\n",
       "      <th>NumberOfPictures</th>\n",
       "      <th>PostalCode</th>\n",
       "      <th>LastSeen</th>\n",
       "    </tr>\n",
       "  </thead>\n",
       "  <tbody>\n",
       "    <tr>\n",
       "      <th>0</th>\n",
       "      <td>2016-03-24 11:52:17</td>\n",
       "      <td>480</td>\n",
       "      <td>NaN</td>\n",
       "      <td>1993</td>\n",
       "      <td>manual</td>\n",
       "      <td>0</td>\n",
       "      <td>golf</td>\n",
       "      <td>150000</td>\n",
       "      <td>0</td>\n",
       "      <td>petrol</td>\n",
       "      <td>volkswagen</td>\n",
       "      <td>NaN</td>\n",
       "      <td>2016-03-24 00:00:00</td>\n",
       "      <td>0</td>\n",
       "      <td>70435</td>\n",
       "      <td>2016-04-07 03:16:57</td>\n",
       "    </tr>\n",
       "    <tr>\n",
       "      <th>1</th>\n",
       "      <td>2016-03-24 10:58:45</td>\n",
       "      <td>18300</td>\n",
       "      <td>coupe</td>\n",
       "      <td>2011</td>\n",
       "      <td>manual</td>\n",
       "      <td>190</td>\n",
       "      <td>NaN</td>\n",
       "      <td>125000</td>\n",
       "      <td>5</td>\n",
       "      <td>gasoline</td>\n",
       "      <td>audi</td>\n",
       "      <td>yes</td>\n",
       "      <td>2016-03-24 00:00:00</td>\n",
       "      <td>0</td>\n",
       "      <td>66954</td>\n",
       "      <td>2016-04-07 01:46:50</td>\n",
       "    </tr>\n",
       "    <tr>\n",
       "      <th>2</th>\n",
       "      <td>2016-03-14 12:52:21</td>\n",
       "      <td>9800</td>\n",
       "      <td>suv</td>\n",
       "      <td>2004</td>\n",
       "      <td>auto</td>\n",
       "      <td>163</td>\n",
       "      <td>grand</td>\n",
       "      <td>125000</td>\n",
       "      <td>8</td>\n",
       "      <td>gasoline</td>\n",
       "      <td>jeep</td>\n",
       "      <td>NaN</td>\n",
       "      <td>2016-03-14 00:00:00</td>\n",
       "      <td>0</td>\n",
       "      <td>90480</td>\n",
       "      <td>2016-04-05 12:47:46</td>\n",
       "    </tr>\n",
       "    <tr>\n",
       "      <th>3</th>\n",
       "      <td>2016-03-17 16:54:04</td>\n",
       "      <td>1500</td>\n",
       "      <td>small</td>\n",
       "      <td>2001</td>\n",
       "      <td>manual</td>\n",
       "      <td>75</td>\n",
       "      <td>golf</td>\n",
       "      <td>150000</td>\n",
       "      <td>6</td>\n",
       "      <td>petrol</td>\n",
       "      <td>volkswagen</td>\n",
       "      <td>no</td>\n",
       "      <td>2016-03-17 00:00:00</td>\n",
       "      <td>0</td>\n",
       "      <td>91074</td>\n",
       "      <td>2016-03-17 17:40:17</td>\n",
       "    </tr>\n",
       "    <tr>\n",
       "      <th>4</th>\n",
       "      <td>2016-03-31 17:25:20</td>\n",
       "      <td>3600</td>\n",
       "      <td>small</td>\n",
       "      <td>2008</td>\n",
       "      <td>manual</td>\n",
       "      <td>69</td>\n",
       "      <td>fabia</td>\n",
       "      <td>90000</td>\n",
       "      <td>7</td>\n",
       "      <td>gasoline</td>\n",
       "      <td>skoda</td>\n",
       "      <td>no</td>\n",
       "      <td>2016-03-31 00:00:00</td>\n",
       "      <td>0</td>\n",
       "      <td>60437</td>\n",
       "      <td>2016-04-06 10:17:21</td>\n",
       "    </tr>\n",
       "  </tbody>\n",
       "</table>\n",
       "</div>"
      ],
      "text/plain": [
       "           DateCrawled  Price VehicleType  RegistrationYear Gearbox  Power  \\\n",
       "0  2016-03-24 11:52:17    480         NaN              1993  manual      0   \n",
       "1  2016-03-24 10:58:45  18300       coupe              2011  manual    190   \n",
       "2  2016-03-14 12:52:21   9800         suv              2004    auto    163   \n",
       "3  2016-03-17 16:54:04   1500       small              2001  manual     75   \n",
       "4  2016-03-31 17:25:20   3600       small              2008  manual     69   \n",
       "\n",
       "   Model  Kilometer  RegistrationMonth  FuelType       Brand Repaired  \\\n",
       "0   golf     150000                  0    petrol  volkswagen      NaN   \n",
       "1    NaN     125000                  5  gasoline        audi      yes   \n",
       "2  grand     125000                  8  gasoline        jeep      NaN   \n",
       "3   golf     150000                  6    petrol  volkswagen       no   \n",
       "4  fabia      90000                  7  gasoline       skoda       no   \n",
       "\n",
       "           DateCreated  NumberOfPictures  PostalCode             LastSeen  \n",
       "0  2016-03-24 00:00:00                 0       70435  2016-04-07 03:16:57  \n",
       "1  2016-03-24 00:00:00                 0       66954  2016-04-07 01:46:50  \n",
       "2  2016-03-14 00:00:00                 0       90480  2016-04-05 12:47:46  \n",
       "3  2016-03-17 00:00:00                 0       91074  2016-03-17 17:40:17  \n",
       "4  2016-03-31 00:00:00                 0       60437  2016-04-06 10:17:21  "
      ]
     },
     "metadata": {},
     "output_type": "display_data"
    },
    {
     "data": {
      "text/html": [
       "<div>\n",
       "<style scoped>\n",
       "    .dataframe tbody tr th:only-of-type {\n",
       "        vertical-align: middle;\n",
       "    }\n",
       "\n",
       "    .dataframe tbody tr th {\n",
       "        vertical-align: top;\n",
       "    }\n",
       "\n",
       "    .dataframe thead th {\n",
       "        text-align: right;\n",
       "    }\n",
       "</style>\n",
       "<table border=\"1\" class=\"dataframe\">\n",
       "  <thead>\n",
       "    <tr style=\"text-align: right;\">\n",
       "      <th></th>\n",
       "      <th>Price</th>\n",
       "      <th>RegistrationYear</th>\n",
       "      <th>Power</th>\n",
       "      <th>Kilometer</th>\n",
       "      <th>RegistrationMonth</th>\n",
       "      <th>NumberOfPictures</th>\n",
       "      <th>PostalCode</th>\n",
       "    </tr>\n",
       "  </thead>\n",
       "  <tbody>\n",
       "    <tr>\n",
       "      <th>count</th>\n",
       "      <td>354369.000000</td>\n",
       "      <td>354369.000000</td>\n",
       "      <td>354369.000000</td>\n",
       "      <td>354369.000000</td>\n",
       "      <td>354369.000000</td>\n",
       "      <td>354369.0</td>\n",
       "      <td>354369.000000</td>\n",
       "    </tr>\n",
       "    <tr>\n",
       "      <th>mean</th>\n",
       "      <td>4416.656776</td>\n",
       "      <td>2004.234448</td>\n",
       "      <td>110.094337</td>\n",
       "      <td>128211.172535</td>\n",
       "      <td>5.714645</td>\n",
       "      <td>0.0</td>\n",
       "      <td>50508.689087</td>\n",
       "    </tr>\n",
       "    <tr>\n",
       "      <th>std</th>\n",
       "      <td>4514.158514</td>\n",
       "      <td>90.227958</td>\n",
       "      <td>189.850405</td>\n",
       "      <td>37905.341530</td>\n",
       "      <td>3.726421</td>\n",
       "      <td>0.0</td>\n",
       "      <td>25783.096248</td>\n",
       "    </tr>\n",
       "    <tr>\n",
       "      <th>min</th>\n",
       "      <td>0.000000</td>\n",
       "      <td>1000.000000</td>\n",
       "      <td>0.000000</td>\n",
       "      <td>5000.000000</td>\n",
       "      <td>0.000000</td>\n",
       "      <td>0.0</td>\n",
       "      <td>1067.000000</td>\n",
       "    </tr>\n",
       "    <tr>\n",
       "      <th>25%</th>\n",
       "      <td>1050.000000</td>\n",
       "      <td>1999.000000</td>\n",
       "      <td>69.000000</td>\n",
       "      <td>125000.000000</td>\n",
       "      <td>3.000000</td>\n",
       "      <td>0.0</td>\n",
       "      <td>30165.000000</td>\n",
       "    </tr>\n",
       "    <tr>\n",
       "      <th>50%</th>\n",
       "      <td>2700.000000</td>\n",
       "      <td>2003.000000</td>\n",
       "      <td>105.000000</td>\n",
       "      <td>150000.000000</td>\n",
       "      <td>6.000000</td>\n",
       "      <td>0.0</td>\n",
       "      <td>49413.000000</td>\n",
       "    </tr>\n",
       "    <tr>\n",
       "      <th>75%</th>\n",
       "      <td>6400.000000</td>\n",
       "      <td>2008.000000</td>\n",
       "      <td>143.000000</td>\n",
       "      <td>150000.000000</td>\n",
       "      <td>9.000000</td>\n",
       "      <td>0.0</td>\n",
       "      <td>71083.000000</td>\n",
       "    </tr>\n",
       "    <tr>\n",
       "      <th>max</th>\n",
       "      <td>20000.000000</td>\n",
       "      <td>9999.000000</td>\n",
       "      <td>20000.000000</td>\n",
       "      <td>150000.000000</td>\n",
       "      <td>12.000000</td>\n",
       "      <td>0.0</td>\n",
       "      <td>99998.000000</td>\n",
       "    </tr>\n",
       "  </tbody>\n",
       "</table>\n",
       "</div>"
      ],
      "text/plain": [
       "               Price  RegistrationYear          Power      Kilometer  \\\n",
       "count  354369.000000     354369.000000  354369.000000  354369.000000   \n",
       "mean     4416.656776       2004.234448     110.094337  128211.172535   \n",
       "std      4514.158514         90.227958     189.850405   37905.341530   \n",
       "min         0.000000       1000.000000       0.000000    5000.000000   \n",
       "25%      1050.000000       1999.000000      69.000000  125000.000000   \n",
       "50%      2700.000000       2003.000000     105.000000  150000.000000   \n",
       "75%      6400.000000       2008.000000     143.000000  150000.000000   \n",
       "max     20000.000000       9999.000000   20000.000000  150000.000000   \n",
       "\n",
       "       RegistrationMonth  NumberOfPictures     PostalCode  \n",
       "count      354369.000000          354369.0  354369.000000  \n",
       "mean            5.714645               0.0   50508.689087  \n",
       "std             3.726421               0.0   25783.096248  \n",
       "min             0.000000               0.0    1067.000000  \n",
       "25%             3.000000               0.0   30165.000000  \n",
       "50%             6.000000               0.0   49413.000000  \n",
       "75%             9.000000               0.0   71083.000000  \n",
       "max            12.000000               0.0   99998.000000  "
      ]
     },
     "metadata": {},
     "output_type": "display_data"
    },
    {
     "data": {
      "text/plain": [
       "array([[<Axes: title={'center': 'Price'}>,\n",
       "        <Axes: title={'center': 'RegistrationYear'}>,\n",
       "        <Axes: title={'center': 'Power'}>],\n",
       "       [<Axes: title={'center': 'Kilometer'}>,\n",
       "        <Axes: title={'center': 'RegistrationMonth'}>,\n",
       "        <Axes: title={'center': 'NumberOfPictures'}>],\n",
       "       [<Axes: title={'center': 'PostalCode'}>, <Axes: >, <Axes: >]],\n",
       "      dtype=object)"
      ]
     },
     "metadata": {},
     "output_type": "display_data"
    },
    {
     "name": "stdout",
     "output_type": "stream",
     "text": [
      "Размерность датасета:(354369, 16)\n",
      "\n",
      "Дубликаты: 4\n",
      "\n",
      "Пропущенные значения:\n",
      "Repaired             71154\n",
      "VehicleType          37490\n",
      "FuelType             32895\n",
      "Gearbox              19833\n",
      "Model                19705\n",
      "DateCrawled              0\n",
      "Price                    0\n",
      "RegistrationYear         0\n",
      "Power                    0\n",
      "Kilometer                0\n",
      "RegistrationMonth        0\n",
      "Brand                    0\n",
      "DateCreated              0\n",
      "NumberOfPictures         0\n",
      "PostalCode               0\n",
      "LastSeen                 0\n",
      "dtype: int64\n",
      "\n"
     ]
    },
    {
     "data": {
      "image/png": "[encoded data removed]",
      "text/plain": [
       "<Figure size 900x900 with 9 Axes>"
      ]
     },
     "metadata": {},
     "output_type": "display_data"
    }
   ],
   "source": [
    "display(df.info(), \n",
    "        df.head(), \n",
    "        df.describe(),\n",
    "        df.hist(figsize=(9,9), bins=20, color='indianred'))\n",
    "print(f'Размерность датасета:{df.shape}\\n')\n",
    "print(f'Дубликаты: {df.duplicated().sum()}\\n')\n",
    "print(f'Пропущенные значения:\\n{df.isna().sum().sort_values(ascending=False)}\\n')"
   ]
  },
  {
   "cell_type": "markdown",
   "id": "811fe1ad",
   "metadata": {},
   "source": [
    "<h3> Вывод"
   ]
  },
  {
   "cell_type": "markdown",
   "id": "0bc5f734",
   "metadata": {},
   "source": [
    "Мы вывели общие сведения о датасетах. Отметим важные моменты:\n",
    "\n",
    "- В датасете 16 столбцов. Их названия записаны стилем PascalCase. Приведем их в стилю snake_case\n",
    "- Присутствуют дубликаты\n",
    "- Присутствуют пропущенные значения в 5-ти столбцах\n",
    "- Заметны аномальные значения и выбросы в данных"
   ]
  },
  {
   "cell_type": "markdown",
   "id": "ce12120b",
   "metadata": {},
   "source": [
    "<a id='2'></a>"
   ]
  },
  {
   "cell_type": "markdown",
   "id": "86b4e32f-f9d7-42dd-b26d-da8c38733d48",
   "metadata": {},
   "source": [
    "<h2> Предобработка данных"
   ]
  },
  {
   "cell_type": "markdown",
   "id": "b75462db",
   "metadata": {},
   "source": [
    "Подготовим данные для будущей работы:\n",
    "\n",
    "- Приведем в порядок названия столбцов\n",
    "- Удалим неинформативные столбцы и добавим новые\n",
    "- Обработаем дубликаты\n",
    "- Обработаем пропущенные значения\n",
    "- Обработаем аномалии и выбросы"
   ]
  },
  {
   "cell_type": "markdown",
   "id": "e9d2299d-1f94-4a64-a6bb-1fc7bff726ea",
   "metadata": {},
   "source": [
    "<h3> Названия столбцов"
   ]
  },
  {
   "cell_type": "code",
   "execution_count": 4,
   "id": "c0e462c1-d34e-45ee-b1c0-61eb161b5cf1",
   "metadata": {},
   "outputs": [
    {
     "data": {
      "text/html": [
       "<div>\n",
       "<style scoped>\n",
       "    .dataframe tbody tr th:only-of-type {\n",
       "        vertical-align: middle;\n",
       "    }\n",
       "\n",
       "    .dataframe tbody tr th {\n",
       "        vertical-align: top;\n",
       "    }\n",
       "\n",
       "    .dataframe thead th {\n",
       "        text-align: right;\n",
       "    }\n",
       "</style>\n",
       "<table border=\"1\" class=\"dataframe\">\n",
       "  <thead>\n",
       "    <tr style=\"text-align: right;\">\n",
       "      <th></th>\n",
       "      <th>date_crawled</th>\n",
       "      <th>price</th>\n",
       "      <th>vehicle_type</th>\n",
       "      <th>registration_year</th>\n",
       "      <th>gearbox</th>\n",
       "      <th>power</th>\n",
       "      <th>model</th>\n",
       "      <th>kilometer</th>\n",
       "      <th>registration_month</th>\n",
       "      <th>fuel_type</th>\n",
       "      <th>brand</th>\n",
       "      <th>repaired</th>\n",
       "      <th>date_created</th>\n",
       "      <th>number_of_pictures</th>\n",
       "      <th>postal_code</th>\n",
       "      <th>last_seen</th>\n",
       "    </tr>\n",
       "  </thead>\n",
       "  <tbody>\n",
       "    <tr>\n",
       "      <th>0</th>\n",
       "      <td>2016-03-24 11:52:17</td>\n",
       "      <td>480</td>\n",
       "      <td>NaN</td>\n",
       "      <td>1993</td>\n",
       "      <td>manual</td>\n",
       "      <td>0</td>\n",
       "      <td>golf</td>\n",
       "      <td>150000</td>\n",
       "      <td>0</td>\n",
       "      <td>petrol</td>\n",
       "      <td>volkswagen</td>\n",
       "      <td>NaN</td>\n",
       "      <td>2016-03-24 00:00:00</td>\n",
       "      <td>0</td>\n",
       "      <td>70435</td>\n",
       "      <td>2016-04-07 03:16:57</td>\n",
       "    </tr>\n",
       "    <tr>\n",
       "      <th>1</th>\n",
       "      <td>2016-03-24 10:58:45</td>\n",
       "      <td>18300</td>\n",
       "      <td>coupe</td>\n",
       "      <td>2011</td>\n",
       "      <td>manual</td>\n",
       "      <td>190</td>\n",
       "      <td>NaN</td>\n",
       "      <td>125000</td>\n",
       "      <td>5</td>\n",
       "      <td>gasoline</td>\n",
       "      <td>audi</td>\n",
       "      <td>yes</td>\n",
       "      <td>2016-03-24 00:00:00</td>\n",
       "      <td>0</td>\n",
       "      <td>66954</td>\n",
       "      <td>2016-04-07 01:46:50</td>\n",
       "    </tr>\n",
       "    <tr>\n",
       "      <th>2</th>\n",
       "      <td>2016-03-14 12:52:21</td>\n",
       "      <td>9800</td>\n",
       "      <td>suv</td>\n",
       "      <td>2004</td>\n",
       "      <td>auto</td>\n",
       "      <td>163</td>\n",
       "      <td>grand</td>\n",
       "      <td>125000</td>\n",
       "      <td>8</td>\n",
       "      <td>gasoline</td>\n",
       "      <td>jeep</td>\n",
       "      <td>NaN</td>\n",
       "      <td>2016-03-14 00:00:00</td>\n",
       "      <td>0</td>\n",
       "      <td>90480</td>\n",
       "      <td>2016-04-05 12:47:46</td>\n",
       "    </tr>\n",
       "    <tr>\n",
       "      <th>3</th>\n",
       "      <td>2016-03-17 16:54:04</td>\n",
       "      <td>1500</td>\n",
       "      <td>small</td>\n",
       "      <td>2001</td>\n",
       "      <td>manual</td>\n",
       "      <td>75</td>\n",
       "      <td>golf</td>\n",
       "      <td>150000</td>\n",
       "      <td>6</td>\n",
       "      <td>petrol</td>\n",
       "      <td>volkswagen</td>\n",
       "      <td>no</td>\n",
       "      <td>2016-03-17 00:00:00</td>\n",
       "      <td>0</td>\n",
       "      <td>91074</td>\n",
       "      <td>2016-03-17 17:40:17</td>\n",
       "    </tr>\n",
       "    <tr>\n",
       "      <th>4</th>\n",
       "      <td>2016-03-31 17:25:20</td>\n",
       "      <td>3600</td>\n",
       "      <td>small</td>\n",
       "      <td>2008</td>\n",
       "      <td>manual</td>\n",
       "      <td>69</td>\n",
       "      <td>fabia</td>\n",
       "      <td>90000</td>\n",
       "      <td>7</td>\n",
       "      <td>gasoline</td>\n",
       "      <td>skoda</td>\n",
       "      <td>no</td>\n",
       "      <td>2016-03-31 00:00:00</td>\n",
       "      <td>0</td>\n",
       "      <td>60437</td>\n",
       "      <td>2016-04-06 10:17:21</td>\n",
       "    </tr>\n",
       "  </tbody>\n",
       "</table>\n",
       "</div>"
      ],
      "text/plain": [
       "          date_crawled  price vehicle_type  registration_year gearbox  power  \\\n",
       "0  2016-03-24 11:52:17    480          NaN               1993  manual      0   \n",
       "1  2016-03-24 10:58:45  18300        coupe               2011  manual    190   \n",
       "2  2016-03-14 12:52:21   9800          suv               2004    auto    163   \n",
       "3  2016-03-17 16:54:04   1500        small               2001  manual     75   \n",
       "4  2016-03-31 17:25:20   3600        small               2008  manual     69   \n",
       "\n",
       "   model  kilometer  registration_month fuel_type       brand repaired  \\\n",
       "0   golf     150000                   0    petrol  volkswagen      NaN   \n",
       "1    NaN     125000                   5  gasoline        audi      yes   \n",
       "2  grand     125000                   8  gasoline        jeep      NaN   \n",
       "3   golf     150000                   6    petrol  volkswagen       no   \n",
       "4  fabia      90000                   7  gasoline       skoda       no   \n",
       "\n",
       "          date_created  number_of_pictures  postal_code            last_seen  \n",
       "0  2016-03-24 00:00:00                   0        70435  2016-04-07 03:16:57  \n",
       "1  2016-03-24 00:00:00                   0        66954  2016-04-07 01:46:50  \n",
       "2  2016-03-14 00:00:00                   0        90480  2016-04-05 12:47:46  \n",
       "3  2016-03-17 00:00:00                   0        91074  2016-03-17 17:40:17  \n",
       "4  2016-03-31 00:00:00                   0        60437  2016-04-06 10:17:21  "
      ]
     },
     "execution_count": 4,
     "metadata": {},
     "output_type": "execute_result"
    }
   ],
   "source": [
    "df = clean_columns(df)\n",
    "df.head()"
   ]
  },
  {
   "cell_type": "markdown",
   "id": "9f4f26a2-db9b-456e-b6b1-8c2464d76694",
   "metadata": {},
   "source": [
    "<h3>Временные рамки и столбцы"
   ]
  },
  {
   "cell_type": "markdown",
   "id": "c0418a45-13b3-4cdc-aae9-8e47e20cbf5c",
   "metadata": {},
   "source": [
    "Для блока предобработки создадим копию датафрейма."
   ]
  },
  {
   "cell_type": "code",
   "execution_count": 5,
   "id": "a16281c7-1647-4d4f-889b-ca279403094f",
   "metadata": {},
   "outputs": [],
   "source": [
    "df_copy = df.copy()"
   ]
  },
  {
   "cell_type": "markdown",
   "id": "27f915c1-f005-4d8b-95b3-91367d39db16",
   "metadata": {},
   "source": [
    "Сразу же отсечём данные по временным рамкам - слишком устаревшие данные нам не пригодятся, а в будущее мы заглядывать не хотим.\n",
    "\n",
    "Используем `date_crawled` как дату выгрузки данных. Анкеты с датами регистрации после `date_crawled` могут быть ошибочными, так как автомобиль не может быть зарегистрирован после даты его выгрузки из базы."
   ]
  },
  {
   "cell_type": "code",
   "execution_count": 6,
   "id": "f0ff740b-1851-47c9-a9f7-2c5deb02f57e",
   "metadata": {},
   "outputs": [],
   "source": [
    "# нижняя граница года\n",
    "df_copy = df_copy[(df_copy['registration_year'] >= 1980)]"
   ]
  },
  {
   "cell_type": "code",
   "execution_count": 7,
   "id": "d9a8f83d-efdf-46c3-a94d-c40ea0ebc76d",
   "metadata": {},
   "outputs": [],
   "source": [
    "# преобразование столбца 'DateCrawled' в формат datetime\n",
    "df_copy['date_crawled'] = pd.to_datetime(df_copy['date_crawled'])\n",
    "\n",
    "# выбираем наиболее позднюю дату скачивания, так как это будет самой последней датой выгрузки в нашем наборе данных\n",
    "latest_crawled_date = df_copy['date_crawled'].max()\n",
    "\n",
    "# год и месяц из этой даты\n",
    "crawled_year = latest_crawled_date.year\n",
    "crawled_month = latest_crawled_date.month\n",
    "\n",
    "# маска для фильтрации данных на основе даты выгрузки\n",
    "mask = (df_copy['registration_year'] < crawled_year) | (\n",
    "       (df_copy['registration_year'] == crawled_year) & (df_copy['registration_month'] <= crawled_month))\n",
    "\n",
    "df_copy = df_copy[mask]"
   ]
  },
  {
   "cell_type": "markdown",
   "id": "8ddaf618-1ef4-426d-b4ad-849f4c608842",
   "metadata": {},
   "source": [
    "Неинформативные для работы столбцы:\n",
    "\n",
    "- Дата скачивания анкеты из базы\n",
    "- Дата создания анкеты\n",
    "- Дата последней активности пользователя\n",
    "- Количество фотографий автомобиля\n",
    "- Почтовый индекс владельца анкеты (пользователя)\n",
    "\n",
    "Все они содержат информацию о пользователе (кроме количества фотографий), что не должно влиять на ценообразование. Количество фотографий также не должно влиять на цену автомобиля. Оставим только признаки, описывающие сам автомобиль."
   ]
  },
  {
   "cell_type": "code",
   "execution_count": 8,
   "id": "d84f7e65-666c-43c1-833e-ecaa0af950ac",
   "metadata": {},
   "outputs": [],
   "source": [
    "df_copy.drop(columns=['date_crawled', \n",
    "                      'date_created', \n",
    "                      'last_seen', \n",
    "                      'number_of_pictures', \n",
    "                      'postal_code'],\n",
    "             axis=1,\n",
    "             inplace=True)"
   ]
  },
  {
   "cell_type": "markdown",
   "id": "c39fcd18-f2c9-4dce-b65d-e3627c5d88f1",
   "metadata": {},
   "source": [
    "Проверим получившийся датафрейм."
   ]
  },
  {
   "cell_type": "code",
   "execution_count": 9,
   "id": "309d24de-106e-45b2-8677-d2ca5961f601",
   "metadata": {},
   "outputs": [
    {
     "name": "stdout",
     "output_type": "stream",
     "text": [
      "<class 'pandas.core.frame.DataFrame'>\n",
      "Index: 331697 entries, 0 to 354368\n",
      "Data columns (total 11 columns):\n",
      " #   Column              Non-Null Count   Dtype \n",
      "---  ------              --------------   ----- \n",
      " 0   price               331697 non-null  int64 \n",
      " 1   vehicle_type        313831 non-null  object\n",
      " 2   registration_year   331697 non-null  int64 \n",
      " 3   gearbox             314913 non-null  object\n",
      " 4   power               331697 non-null  int64 \n",
      " 5   model               315516 non-null  object\n",
      " 6   kilometer           331697 non-null  int64 \n",
      " 7   registration_month  331697 non-null  int64 \n",
      " 8   fuel_type           307047 non-null  object\n",
      " 9   brand               331697 non-null  object\n",
      " 10  repaired            269938 non-null  object\n",
      "dtypes: int64(5), object(6)\n",
      "memory usage: 30.4+ MB\n"
     ]
    },
    {
     "data": {
      "text/plain": [
       "None"
      ]
     },
     "metadata": {},
     "output_type": "display_data"
    },
    {
     "data": {
      "text/html": [
       "<div>\n",
       "<style scoped>\n",
       "    .dataframe tbody tr th:only-of-type {\n",
       "        vertical-align: middle;\n",
       "    }\n",
       "\n",
       "    .dataframe tbody tr th {\n",
       "        vertical-align: top;\n",
       "    }\n",
       "\n",
       "    .dataframe thead th {\n",
       "        text-align: right;\n",
       "    }\n",
       "</style>\n",
       "<table border=\"1\" class=\"dataframe\">\n",
       "  <thead>\n",
       "    <tr style=\"text-align: right;\">\n",
       "      <th></th>\n",
       "      <th>price</th>\n",
       "      <th>vehicle_type</th>\n",
       "      <th>registration_year</th>\n",
       "      <th>gearbox</th>\n",
       "      <th>power</th>\n",
       "      <th>model</th>\n",
       "      <th>kilometer</th>\n",
       "      <th>registration_month</th>\n",
       "      <th>fuel_type</th>\n",
       "      <th>brand</th>\n",
       "      <th>repaired</th>\n",
       "    </tr>\n",
       "  </thead>\n",
       "  <tbody>\n",
       "    <tr>\n",
       "      <th>0</th>\n",
       "      <td>480</td>\n",
       "      <td>NaN</td>\n",
       "      <td>1993</td>\n",
       "      <td>manual</td>\n",
       "      <td>0</td>\n",
       "      <td>golf</td>\n",
       "      <td>150000</td>\n",
       "      <td>0</td>\n",
       "      <td>petrol</td>\n",
       "      <td>volkswagen</td>\n",
       "      <td>NaN</td>\n",
       "    </tr>\n",
       "    <tr>\n",
       "      <th>1</th>\n",
       "      <td>18300</td>\n",
       "      <td>coupe</td>\n",
       "      <td>2011</td>\n",
       "      <td>manual</td>\n",
       "      <td>190</td>\n",
       "      <td>NaN</td>\n",
       "      <td>125000</td>\n",
       "      <td>5</td>\n",
       "      <td>gasoline</td>\n",
       "      <td>audi</td>\n",
       "      <td>yes</td>\n",
       "    </tr>\n",
       "    <tr>\n",
       "      <th>2</th>\n",
       "      <td>9800</td>\n",
       "      <td>suv</td>\n",
       "      <td>2004</td>\n",
       "      <td>auto</td>\n",
       "      <td>163</td>\n",
       "      <td>grand</td>\n",
       "      <td>125000</td>\n",
       "      <td>8</td>\n",
       "      <td>gasoline</td>\n",
       "      <td>jeep</td>\n",
       "      <td>NaN</td>\n",
       "    </tr>\n",
       "    <tr>\n",
       "      <th>3</th>\n",
       "      <td>1500</td>\n",
       "      <td>small</td>\n",
       "      <td>2001</td>\n",
       "      <td>manual</td>\n",
       "      <td>75</td>\n",
       "      <td>golf</td>\n",
       "      <td>150000</td>\n",
       "      <td>6</td>\n",
       "      <td>petrol</td>\n",
       "      <td>volkswagen</td>\n",
       "      <td>no</td>\n",
       "    </tr>\n",
       "    <tr>\n",
       "      <th>4</th>\n",
       "      <td>3600</td>\n",
       "      <td>small</td>\n",
       "      <td>2008</td>\n",
       "      <td>manual</td>\n",
       "      <td>69</td>\n",
       "      <td>fabia</td>\n",
       "      <td>90000</td>\n",
       "      <td>7</td>\n",
       "      <td>gasoline</td>\n",
       "      <td>skoda</td>\n",
       "      <td>no</td>\n",
       "    </tr>\n",
       "  </tbody>\n",
       "</table>\n",
       "</div>"
      ],
      "text/plain": [
       "   price vehicle_type  registration_year gearbox  power  model  kilometer  \\\n",
       "0    480          NaN               1993  manual      0   golf     150000   \n",
       "1  18300        coupe               2011  manual    190    NaN     125000   \n",
       "2   9800          suv               2004    auto    163  grand     125000   \n",
       "3   1500        small               2001  manual     75   golf     150000   \n",
       "4   3600        small               2008  manual     69  fabia      90000   \n",
       "\n",
       "   registration_month fuel_type       brand repaired  \n",
       "0                   0    petrol  volkswagen      NaN  \n",
       "1                   5  gasoline        audi      yes  \n",
       "2                   8  gasoline        jeep      NaN  \n",
       "3                   6    petrol  volkswagen       no  \n",
       "4                   7  gasoline       skoda       no  "
      ]
     },
     "metadata": {},
     "output_type": "display_data"
    }
   ],
   "source": [
    "display(df_copy.info(), df_copy.head())"
   ]
  },
  {
   "cell_type": "markdown",
   "id": "b979eff1-ab27-4d79-ae1c-d0a5de99cc48",
   "metadata": {},
   "source": [
    "<h3>Дубликаты"
   ]
  },
  {
   "cell_type": "markdown",
   "id": "b1746174-c8b5-45c1-988f-5974e3e8bb72",
   "metadata": {},
   "source": [
    "При загрузке данных мы обнаружили 4 дубликата. Проверим ещё раз дублирающиеся значения после удаления ненужных столбцов."
   ]
  },
  {
   "cell_type": "code",
   "execution_count": 10,
   "id": "1adfa4ee-5925-4983-9b2f-01c923121025",
   "metadata": {},
   "outputs": [
    {
     "data": {
      "text/plain": [
       "26555"
      ]
     },
     "execution_count": 10,
     "metadata": {},
     "output_type": "execute_result"
    }
   ],
   "source": [
    "df_copy.duplicated().sum()"
   ]
  },
  {
   "cell_type": "code",
   "execution_count": 11,
   "id": "61efc730-325c-4404-80ec-7da88be53579",
   "metadata": {},
   "outputs": [
    {
     "data": {
      "text/html": [
       "<div>\n",
       "<style scoped>\n",
       "    .dataframe tbody tr th:only-of-type {\n",
       "        vertical-align: middle;\n",
       "    }\n",
       "\n",
       "    .dataframe tbody tr th {\n",
       "        vertical-align: top;\n",
       "    }\n",
       "\n",
       "    .dataframe thead th {\n",
       "        text-align: right;\n",
       "    }\n",
       "</style>\n",
       "<table border=\"1\" class=\"dataframe\">\n",
       "  <thead>\n",
       "    <tr style=\"text-align: right;\">\n",
       "      <th></th>\n",
       "      <th>price</th>\n",
       "      <th>vehicle_type</th>\n",
       "      <th>registration_year</th>\n",
       "      <th>gearbox</th>\n",
       "      <th>power</th>\n",
       "      <th>model</th>\n",
       "      <th>kilometer</th>\n",
       "      <th>registration_month</th>\n",
       "      <th>fuel_type</th>\n",
       "      <th>brand</th>\n",
       "      <th>repaired</th>\n",
       "    </tr>\n",
       "  </thead>\n",
       "  <tbody>\n",
       "    <tr>\n",
       "      <th>199835</th>\n",
       "      <td>0</td>\n",
       "      <td>bus</td>\n",
       "      <td>1994</td>\n",
       "      <td>manual</td>\n",
       "      <td>0</td>\n",
       "      <td>transporter</td>\n",
       "      <td>150000</td>\n",
       "      <td>1</td>\n",
       "      <td>gasoline</td>\n",
       "      <td>volkswagen</td>\n",
       "      <td>NaN</td>\n",
       "    </tr>\n",
       "    <tr>\n",
       "      <th>283241</th>\n",
       "      <td>0</td>\n",
       "      <td>bus</td>\n",
       "      <td>1994</td>\n",
       "      <td>manual</td>\n",
       "      <td>0</td>\n",
       "      <td>transporter</td>\n",
       "      <td>150000</td>\n",
       "      <td>1</td>\n",
       "      <td>gasoline</td>\n",
       "      <td>volkswagen</td>\n",
       "      <td>NaN</td>\n",
       "    </tr>\n",
       "    <tr>\n",
       "      <th>82258</th>\n",
       "      <td>0</td>\n",
       "      <td>bus</td>\n",
       "      <td>1994</td>\n",
       "      <td>manual</td>\n",
       "      <td>68</td>\n",
       "      <td>transporter</td>\n",
       "      <td>150000</td>\n",
       "      <td>5</td>\n",
       "      <td>gasoline</td>\n",
       "      <td>volkswagen</td>\n",
       "      <td>NaN</td>\n",
       "    </tr>\n",
       "    <tr>\n",
       "      <th>254668</th>\n",
       "      <td>0</td>\n",
       "      <td>bus</td>\n",
       "      <td>1994</td>\n",
       "      <td>manual</td>\n",
       "      <td>68</td>\n",
       "      <td>transporter</td>\n",
       "      <td>150000</td>\n",
       "      <td>5</td>\n",
       "      <td>gasoline</td>\n",
       "      <td>volkswagen</td>\n",
       "      <td>NaN</td>\n",
       "    </tr>\n",
       "    <tr>\n",
       "      <th>107497</th>\n",
       "      <td>0</td>\n",
       "      <td>bus</td>\n",
       "      <td>1995</td>\n",
       "      <td>manual</td>\n",
       "      <td>102</td>\n",
       "      <td>transporter</td>\n",
       "      <td>150000</td>\n",
       "      <td>5</td>\n",
       "      <td>gasoline</td>\n",
       "      <td>volkswagen</td>\n",
       "      <td>no</td>\n",
       "    </tr>\n",
       "    <tr>\n",
       "      <th>259813</th>\n",
       "      <td>0</td>\n",
       "      <td>bus</td>\n",
       "      <td>1995</td>\n",
       "      <td>manual</td>\n",
       "      <td>102</td>\n",
       "      <td>transporter</td>\n",
       "      <td>150000</td>\n",
       "      <td>5</td>\n",
       "      <td>gasoline</td>\n",
       "      <td>volkswagen</td>\n",
       "      <td>no</td>\n",
       "    </tr>\n",
       "    <tr>\n",
       "      <th>50342</th>\n",
       "      <td>0</td>\n",
       "      <td>bus</td>\n",
       "      <td>1996</td>\n",
       "      <td>auto</td>\n",
       "      <td>110</td>\n",
       "      <td>transporter</td>\n",
       "      <td>150000</td>\n",
       "      <td>0</td>\n",
       "      <td>petrol</td>\n",
       "      <td>volkswagen</td>\n",
       "      <td>no</td>\n",
       "    </tr>\n",
       "    <tr>\n",
       "      <th>64344</th>\n",
       "      <td>0</td>\n",
       "      <td>bus</td>\n",
       "      <td>1996</td>\n",
       "      <td>auto</td>\n",
       "      <td>110</td>\n",
       "      <td>transporter</td>\n",
       "      <td>150000</td>\n",
       "      <td>0</td>\n",
       "      <td>petrol</td>\n",
       "      <td>volkswagen</td>\n",
       "      <td>no</td>\n",
       "    </tr>\n",
       "    <tr>\n",
       "      <th>233600</th>\n",
       "      <td>0</td>\n",
       "      <td>bus</td>\n",
       "      <td>1996</td>\n",
       "      <td>auto</td>\n",
       "      <td>110</td>\n",
       "      <td>transporter</td>\n",
       "      <td>150000</td>\n",
       "      <td>0</td>\n",
       "      <td>petrol</td>\n",
       "      <td>volkswagen</td>\n",
       "      <td>no</td>\n",
       "    </tr>\n",
       "    <tr>\n",
       "      <th>234704</th>\n",
       "      <td>0</td>\n",
       "      <td>bus</td>\n",
       "      <td>1996</td>\n",
       "      <td>auto</td>\n",
       "      <td>110</td>\n",
       "      <td>transporter</td>\n",
       "      <td>150000</td>\n",
       "      <td>0</td>\n",
       "      <td>petrol</td>\n",
       "      <td>volkswagen</td>\n",
       "      <td>no</td>\n",
       "    </tr>\n",
       "  </tbody>\n",
       "</table>\n",
       "</div>"
      ],
      "text/plain": [
       "        price vehicle_type  registration_year gearbox  power        model  \\\n",
       "199835      0          bus               1994  manual      0  transporter   \n",
       "283241      0          bus               1994  manual      0  transporter   \n",
       "82258       0          bus               1994  manual     68  transporter   \n",
       "254668      0          bus               1994  manual     68  transporter   \n",
       "107497      0          bus               1995  manual    102  transporter   \n",
       "259813      0          bus               1995  manual    102  transporter   \n",
       "50342       0          bus               1996    auto    110  transporter   \n",
       "64344       0          bus               1996    auto    110  transporter   \n",
       "233600      0          bus               1996    auto    110  transporter   \n",
       "234704      0          bus               1996    auto    110  transporter   \n",
       "\n",
       "        kilometer  registration_month fuel_type       brand repaired  \n",
       "199835     150000                   1  gasoline  volkswagen      NaN  \n",
       "283241     150000                   1  gasoline  volkswagen      NaN  \n",
       "82258      150000                   5  gasoline  volkswagen      NaN  \n",
       "254668     150000                   5  gasoline  volkswagen      NaN  \n",
       "107497     150000                   5  gasoline  volkswagen       no  \n",
       "259813     150000                   5  gasoline  volkswagen       no  \n",
       "50342      150000                   0    petrol  volkswagen       no  \n",
       "64344      150000                   0    petrol  volkswagen       no  \n",
       "233600     150000                   0    petrol  volkswagen       no  \n",
       "234704     150000                   0    petrol  volkswagen       no  "
      ]
     },
     "execution_count": 11,
     "metadata": {},
     "output_type": "execute_result"
    }
   ],
   "source": [
    "df_copy[df_copy.duplicated(keep=False)].sort_values(by=list(df_copy.columns)).head(10)"
   ]
  },
  {
   "cell_type": "markdown",
   "id": "78cc120f-4f2c-4a1a-93a2-c7d6f1948468",
   "metadata": {},
   "source": [
    "25 тысяч дубликатов против 4, довольно большой разрыв между значениями. Скорее всего до удаления столбцов они отличались лишь временными аспектами. Проверим это предположение на нескольких строках по индексу. Также посчитаем какой процент от вссех данных составляют дубликаты."
   ]
  },
  {
   "cell_type": "code",
   "execution_count": 12,
   "id": "08f39173-a411-4280-9416-180873dac32e",
   "metadata": {},
   "outputs": [
    {
     "data": {
      "text/html": [
       "<div>\n",
       "<style scoped>\n",
       "    .dataframe tbody tr th:only-of-type {\n",
       "        vertical-align: middle;\n",
       "    }\n",
       "\n",
       "    .dataframe tbody tr th {\n",
       "        vertical-align: top;\n",
       "    }\n",
       "\n",
       "    .dataframe thead th {\n",
       "        text-align: right;\n",
       "    }\n",
       "</style>\n",
       "<table border=\"1\" class=\"dataframe\">\n",
       "  <thead>\n",
       "    <tr style=\"text-align: right;\">\n",
       "      <th></th>\n",
       "      <th>date_crawled</th>\n",
       "      <th>price</th>\n",
       "      <th>vehicle_type</th>\n",
       "      <th>registration_year</th>\n",
       "      <th>gearbox</th>\n",
       "      <th>power</th>\n",
       "      <th>model</th>\n",
       "      <th>kilometer</th>\n",
       "      <th>registration_month</th>\n",
       "      <th>fuel_type</th>\n",
       "      <th>brand</th>\n",
       "      <th>repaired</th>\n",
       "      <th>date_created</th>\n",
       "      <th>number_of_pictures</th>\n",
       "      <th>postal_code</th>\n",
       "      <th>last_seen</th>\n",
       "    </tr>\n",
       "  </thead>\n",
       "  <tbody>\n",
       "    <tr>\n",
       "      <th>199835</th>\n",
       "      <td>2016-03-12 11:56:50</td>\n",
       "      <td>0</td>\n",
       "      <td>bus</td>\n",
       "      <td>1994</td>\n",
       "      <td>manual</td>\n",
       "      <td>0</td>\n",
       "      <td>transporter</td>\n",
       "      <td>150000</td>\n",
       "      <td>1</td>\n",
       "      <td>gasoline</td>\n",
       "      <td>volkswagen</td>\n",
       "      <td>NaN</td>\n",
       "      <td>2016-03-12 00:00:00</td>\n",
       "      <td>0</td>\n",
       "      <td>8301</td>\n",
       "      <td>2016-03-13 03:16:04</td>\n",
       "    </tr>\n",
       "    <tr>\n",
       "      <th>283241</th>\n",
       "      <td>2016-03-12 12:41:54</td>\n",
       "      <td>0</td>\n",
       "      <td>bus</td>\n",
       "      <td>1994</td>\n",
       "      <td>manual</td>\n",
       "      <td>0</td>\n",
       "      <td>transporter</td>\n",
       "      <td>150000</td>\n",
       "      <td>1</td>\n",
       "      <td>gasoline</td>\n",
       "      <td>volkswagen</td>\n",
       "      <td>NaN</td>\n",
       "      <td>2016-03-12 00:00:00</td>\n",
       "      <td>0</td>\n",
       "      <td>8301</td>\n",
       "      <td>2016-03-13 03:45:29</td>\n",
       "    </tr>\n",
       "  </tbody>\n",
       "</table>\n",
       "</div>"
      ],
      "text/plain": [
       "               date_crawled  price vehicle_type  registration_year gearbox  \\\n",
       "199835  2016-03-12 11:56:50      0          bus               1994  manual   \n",
       "283241  2016-03-12 12:41:54      0          bus               1994  manual   \n",
       "\n",
       "        power        model  kilometer  registration_month fuel_type  \\\n",
       "199835      0  transporter     150000                   1  gasoline   \n",
       "283241      0  transporter     150000                   1  gasoline   \n",
       "\n",
       "             brand repaired         date_created  number_of_pictures  \\\n",
       "199835  volkswagen      NaN  2016-03-12 00:00:00                   0   \n",
       "283241  volkswagen      NaN  2016-03-12 00:00:00                   0   \n",
       "\n",
       "        postal_code            last_seen  \n",
       "199835         8301  2016-03-13 03:16:04  \n",
       "283241         8301  2016-03-13 03:45:29  "
      ]
     },
     "execution_count": 12,
     "metadata": {},
     "output_type": "execute_result"
    }
   ],
   "source": [
    "df.loc[[199835, 283241]]"
   ]
  },
  {
   "cell_type": "code",
   "execution_count": 13,
   "id": "94c6cb59-0f22-43ab-912a-07442777e61c",
   "metadata": {},
   "outputs": [
    {
     "data": {
      "text/html": [
       "<div>\n",
       "<style scoped>\n",
       "    .dataframe tbody tr th:only-of-type {\n",
       "        vertical-align: middle;\n",
       "    }\n",
       "\n",
       "    .dataframe tbody tr th {\n",
       "        vertical-align: top;\n",
       "    }\n",
       "\n",
       "    .dataframe thead th {\n",
       "        text-align: right;\n",
       "    }\n",
       "</style>\n",
       "<table border=\"1\" class=\"dataframe\">\n",
       "  <thead>\n",
       "    <tr style=\"text-align: right;\">\n",
       "      <th></th>\n",
       "      <th>date_crawled</th>\n",
       "      <th>price</th>\n",
       "      <th>vehicle_type</th>\n",
       "      <th>registration_year</th>\n",
       "      <th>gearbox</th>\n",
       "      <th>power</th>\n",
       "      <th>model</th>\n",
       "      <th>kilometer</th>\n",
       "      <th>registration_month</th>\n",
       "      <th>fuel_type</th>\n",
       "      <th>brand</th>\n",
       "      <th>repaired</th>\n",
       "      <th>date_created</th>\n",
       "      <th>number_of_pictures</th>\n",
       "      <th>postal_code</th>\n",
       "      <th>last_seen</th>\n",
       "    </tr>\n",
       "  </thead>\n",
       "  <tbody>\n",
       "    <tr>\n",
       "      <th>82258</th>\n",
       "      <td>2016-03-17 07:55:14</td>\n",
       "      <td>0</td>\n",
       "      <td>bus</td>\n",
       "      <td>1994</td>\n",
       "      <td>manual</td>\n",
       "      <td>68</td>\n",
       "      <td>transporter</td>\n",
       "      <td>150000</td>\n",
       "      <td>5</td>\n",
       "      <td>gasoline</td>\n",
       "      <td>volkswagen</td>\n",
       "      <td>NaN</td>\n",
       "      <td>2016-03-17 00:00:00</td>\n",
       "      <td>0</td>\n",
       "      <td>47533</td>\n",
       "      <td>2016-03-22 13:49:41</td>\n",
       "    </tr>\n",
       "    <tr>\n",
       "      <th>254668</th>\n",
       "      <td>2016-03-17 09:40:08</td>\n",
       "      <td>0</td>\n",
       "      <td>bus</td>\n",
       "      <td>1994</td>\n",
       "      <td>manual</td>\n",
       "      <td>68</td>\n",
       "      <td>transporter</td>\n",
       "      <td>150000</td>\n",
       "      <td>5</td>\n",
       "      <td>gasoline</td>\n",
       "      <td>volkswagen</td>\n",
       "      <td>NaN</td>\n",
       "      <td>2016-03-17 00:00:00</td>\n",
       "      <td>0</td>\n",
       "      <td>47533</td>\n",
       "      <td>2016-03-22 15:46:36</td>\n",
       "    </tr>\n",
       "  </tbody>\n",
       "</table>\n",
       "</div>"
      ],
      "text/plain": [
       "               date_crawled  price vehicle_type  registration_year gearbox  \\\n",
       "82258   2016-03-17 07:55:14      0          bus               1994  manual   \n",
       "254668  2016-03-17 09:40:08      0          bus               1994  manual   \n",
       "\n",
       "        power        model  kilometer  registration_month fuel_type  \\\n",
       "82258      68  transporter     150000                   5  gasoline   \n",
       "254668     68  transporter     150000                   5  gasoline   \n",
       "\n",
       "             brand repaired         date_created  number_of_pictures  \\\n",
       "82258   volkswagen      NaN  2016-03-17 00:00:00                   0   \n",
       "254668  volkswagen      NaN  2016-03-17 00:00:00                   0   \n",
       "\n",
       "        postal_code            last_seen  \n",
       "82258         47533  2016-03-22 13:49:41  \n",
       "254668        47533  2016-03-22 15:46:36  "
      ]
     },
     "execution_count": 13,
     "metadata": {},
     "output_type": "execute_result"
    }
   ],
   "source": [
    "df.loc[[82258, 254668]]"
   ]
  },
  {
   "cell_type": "code",
   "execution_count": 14,
   "id": "0f5110e2-c5ea-45f7-aa74-8dfd370e2b98",
   "metadata": {},
   "outputs": [
    {
     "name": "stdout",
     "output_type": "stream",
     "text": [
      "Процент дубликатов от всех данных 8.005800474529465 %\n"
     ]
    }
   ],
   "source": [
    "print('Процент дубликатов от всех данных', \n",
    "      df_copy[df_copy.duplicated()].shape[0] / df_copy.shape[0] * 100, \n",
    "      '%')"
   ]
  },
  {
   "cell_type": "markdown",
   "id": "bb42ed91-9cc9-4498-88b1-df1975068233",
   "metadata": {},
   "source": [
    "Предположение оказалось верным - дублирующиеся строки отличаются датой скачивания анкеты из базы и датой последней активности пользователя.\n",
    "\n",
    "Хоть дубликаты и составляют довольно большой процент от всех данных (7%), удалим их для дальнейшей работы."
   ]
  },
  {
   "cell_type": "code",
   "execution_count": 15,
   "id": "e570cbd6-bd49-49be-9beb-66d33f858726",
   "metadata": {},
   "outputs": [],
   "source": [
    "df_copy.drop_duplicates(inplace=True)"
   ]
  },
  {
   "cell_type": "code",
   "execution_count": 16,
   "id": "1d672c05-b5dd-4cdf-9e92-aedd68e38a81",
   "metadata": {},
   "outputs": [
    {
     "name": "stdout",
     "output_type": "stream",
     "text": [
      "Количество дубликатов: 0\n"
     ]
    }
   ],
   "source": [
    "print('Количество дубликатов:', \n",
    "      df_copy.duplicated().sum())"
   ]
  },
  {
   "cell_type": "markdown",
   "id": "4204ed9a-f40c-4955-ac29-da6033d3cd34",
   "metadata": {},
   "source": [
    "<h3> Пропуски"
   ]
  },
  {
   "cell_type": "markdown",
   "id": "eed06741",
   "metadata": {},
   "source": [
    "Из обзора данных мы знаем, что пропуски присутствуют только у категориальных признаков. Перепроверим это."
   ]
  },
  {
   "cell_type": "code",
   "execution_count": 17,
   "id": "eaec16d9",
   "metadata": {},
   "outputs": [
    {
     "data": {
      "text/plain": [
       "repaired              57465\n",
       "fuel_type             23213\n",
       "vehicle_type          16521\n",
       "model                 15145\n",
       "gearbox               14681\n",
       "price                     0\n",
       "registration_year         0\n",
       "power                     0\n",
       "kilometer                 0\n",
       "registration_month        0\n",
       "brand                     0\n",
       "dtype: int64"
      ]
     },
     "execution_count": 17,
     "metadata": {},
     "output_type": "execute_result"
    }
   ],
   "source": [
    "df_copy.isna().sum().sort_values(ascending=False)"
   ]
  },
  {
   "cell_type": "markdown",
   "id": "0873dda3-63ce-4568-999e-22f331c35fc1",
   "metadata": {},
   "source": [
    "Взглянем на уникальные значения каждого столбца и заполним пропущенные значения."
   ]
  },
  {
   "cell_type": "code",
   "execution_count": 18,
   "id": "1b8f3340-aa05-4b63-b230-80a32b8a9e0c",
   "metadata": {},
   "outputs": [
    {
     "data": {
      "text/plain": [
       "array([nan, 'coupe', 'suv', 'small', 'sedan', 'convertible', 'bus',\n",
       "       'wagon', 'other'], dtype=object)"
      ]
     },
     "execution_count": 18,
     "metadata": {},
     "output_type": "execute_result"
    }
   ],
   "source": [
    "df_copy['vehicle_type'].unique()"
   ]
  },
  {
   "cell_type": "code",
   "execution_count": 19,
   "id": "68e65622-a7a6-46f0-8ebc-e2bf3756ea80",
   "metadata": {},
   "outputs": [
    {
     "data": {
      "text/plain": [
       "array(['golf', nan, 'grand', 'fabia', '3er', '2_reihe', 'other', 'c_max',\n",
       "       '3_reihe', 'passat', 'navara', 'polo', 'twingo', 'a_klasse',\n",
       "       'scirocco', '5er', 'arosa', 'civic', 'transporter', 'punto',\n",
       "       'e_klasse', 'kadett', 'kangoo', 'corsa', 'one', 'fortwo', 'clio',\n",
       "       '1er', 'b_klasse', 'signum', 'astra', 'a8', 'jetta', 'fiesta',\n",
       "       'c_klasse', 'micra', 'vito', 'sprinter', '156', 'escort',\n",
       "       'forester', 'xc_reihe', 'scenic', 'a4', 'ka', 'a1', 'insignia',\n",
       "       'combo', 'focus', 'tt', 'a6', 'jazz', 'omega', 'slk', '7er', '80',\n",
       "       '147', '100', 'meriva', 'z_reihe', 'sorento', 'v40', 'ibiza',\n",
       "       'mustang', 'eos', 'touran', 'getz', 'a3', 'megane', 'lupo', 'r19',\n",
       "       'caddy', 'mondeo', 'cordoba', 'colt', 'impreza', 'vectra',\n",
       "       'berlingo', 'tiguan', 'sharan', '6_reihe', 'c4', 'panda', 'up',\n",
       "       'i_reihe', 'ceed', '5_reihe', 'yeti', 'octavia', 'zafira', 'mii',\n",
       "       'rx_reihe', '6er', 'modus', 'fox', 'matiz', 'beetle', 'c1', 'rio',\n",
       "       'touareg', 'logan', 'spider', 'cuore', 's_max', 'a2', 'galaxy',\n",
       "       'c3', 'viano', 's_klasse', '1_reihe', 'avensis', 'roomster', 'sl',\n",
       "       'santa', 'cooper', 'leon', '4_reihe', 'a5', 'sportage', 'laguna',\n",
       "       'ptcruiser', 'clk', 'primera', 'espace', 'x_reihe', 'exeo', '159',\n",
       "       'transit', 'juke', 'qashqai', 'carisma', 'accord', 'corolla',\n",
       "       'lanos', 'phaeton', 'verso', 'swift', 'rav', 'picanto', 'boxster',\n",
       "       'kalos', 'superb', 'stilo', 'alhambra', 'mx_reihe', 'roadster',\n",
       "       'ypsilon', 'cayenne', 'galant', 'justy', '90', 'sirion',\n",
       "       'crossfire', 'agila', 'duster', 'v50', 'c_reihe', 'v_klasse',\n",
       "       'm_klasse', 'yaris', 'c5', 'aygo', 'almera', 'seicento', 'cc',\n",
       "       'fusion', '911', 'bora', 'forfour', 'm_reihe', 'cl', 'tigra',\n",
       "       '300c', '500', 'cr_reihe', 'spark', 'v70', 'kuga', 'x_type',\n",
       "       'ducato', 's_type', 'x_trail', 'toledo', 'altea', 'voyager',\n",
       "       'calibra', 'carnival', 'bravo', 'antara', 'tucson', 'citigo',\n",
       "       'jimny', 'wrangler', 'lybra', 'q7', 'lancer', 'captiva',\n",
       "       'discovery', 'freelander', 'sandero', 'note', '900', 'cherokee',\n",
       "       'kaefer', 'clubman', 'samara', 'defender', 'cx_reihe', 'legacy',\n",
       "       '601', 'pajero', 'auris', 'c2', 'niva', 's60', 'nubira', 'vivaro',\n",
       "       'g_klasse', 'lodgy', '850', 'range_rover', 'q3', 'serie_2', 'glk',\n",
       "       'charade', 'croma', 'outlander', 'doblo', 'musa', 'move', '9000',\n",
       "       'v60', '145', '200', 'b_max', 'range_rover_sport', 'aveo',\n",
       "       'terios', 'rangerover', 'q5', 'range_rover_evoque', 'materia',\n",
       "       'delta', 'gl', 'kalina', 'elefantino', 'i3', 'amarok', 'kappa',\n",
       "       'serie_3'], dtype=object)"
      ]
     },
     "execution_count": 19,
     "metadata": {},
     "output_type": "execute_result"
    }
   ],
   "source": [
    "df_copy['model'].unique()"
   ]
  },
  {
   "cell_type": "code",
   "execution_count": 20,
   "id": "bdf144ba-8832-40ce-98e1-69eaa8a25dd8",
   "metadata": {},
   "outputs": [
    {
     "data": {
      "text/plain": [
       "array(['petrol', 'gasoline', nan, 'lpg', 'other', 'hybrid', 'cng',\n",
       "       'electric'], dtype=object)"
      ]
     },
     "execution_count": 20,
     "metadata": {},
     "output_type": "execute_result"
    }
   ],
   "source": [
    "df_copy['fuel_type'].unique()"
   ]
  },
  {
   "cell_type": "code",
   "execution_count": 21,
   "id": "d3afb379-8984-4316-9845-9c472bb0a433",
   "metadata": {},
   "outputs": [
    {
     "data": {
      "text/plain": [
       "array([nan, 'yes', 'no'], dtype=object)"
      ]
     },
     "execution_count": 21,
     "metadata": {},
     "output_type": "execute_result"
    }
   ],
   "source": [
    "df_copy['repaired'].unique()"
   ]
  },
  {
   "cell_type": "code",
   "execution_count": 22,
   "id": "2e32e656-5b11-4528-9ec7-04a5b86361ae",
   "metadata": {},
   "outputs": [
    {
     "data": {
      "text/plain": [
       "array(['manual', 'auto', nan], dtype=object)"
      ]
     },
     "execution_count": 22,
     "metadata": {},
     "output_type": "execute_result"
    }
   ],
   "source": [
    "df_copy['gearbox'].unique()"
   ]
  },
  {
   "cell_type": "markdown",
   "id": "8b79b934-8b74-47ed-b316-4cc75aa3d6c2",
   "metadata": {},
   "source": [
    "У `model`, `vehicle_type` и `fuel_type` есть категория `other`. Присвоим пропуски к этой категории. Пропущенные значения в `repaired` и `gearbox` заменим на `N/A`."
   ]
  },
  {
   "cell_type": "code",
   "execution_count": 23,
   "id": "2ee34f18-aec7-4ec5-8547-7a2273034e16",
   "metadata": {},
   "outputs": [],
   "source": [
    "df_copy['vehicle_type'] = df_copy['vehicle_type'].fillna('other')\n",
    "df_copy['model'] = df_copy['model'].fillna('other')\n",
    "df_copy['fuel_type'] = df_copy['fuel_type'].fillna('other')\n",
    "df_copy['repaired']=df_copy['repaired'].fillna('N/A')\n",
    "df_copy['gearbox']=df_copy['gearbox'].fillna('N/A')"
   ]
  },
  {
   "cell_type": "markdown",
   "id": "b41ecd5d-bf5e-466c-a055-a01fbd4e5c07",
   "metadata": {},
   "source": [
    "<h3>Выбросы"
   ]
  },
  {
   "cell_type": "markdown",
   "id": "05dbe70d-469c-4335-bbf0-b3887f358bc8",
   "metadata": {},
   "source": [
    "Посмотрим на графики и корреляцию столбцов с числовыми значениями (кроме месяца и года)."
   ]
  },
  {
   "cell_type": "code",
   "execution_count": 24,
   "id": "25443c12-0161-4229-a75d-4cdcc0795300",
   "metadata": {},
   "outputs": [
    {
     "data": {
      "text/html": [
       "<style type=\"text/css\">\n",
       "#T_d5ac2_row0_col0, #T_d5ac2_row1_col1, #T_d5ac2_row2_col2 {\n",
       "  background-color: #b40426;\n",
       "  color: #f1f1f1;\n",
       "}\n",
       "#T_d5ac2_row0_col1 {\n",
       "  background-color: #6687ed;\n",
       "  color: #f1f1f1;\n",
       "}\n",
       "#T_d5ac2_row0_col2, #T_d5ac2_row2_col0, #T_d5ac2_row2_col1 {\n",
       "  background-color: #3b4cc0;\n",
       "  color: #f1f1f1;\n",
       "}\n",
       "#T_d5ac2_row1_col0 {\n",
       "  background-color: #b7cff9;\n",
       "  color: #000000;\n",
       "}\n",
       "#T_d5ac2_row1_col2 {\n",
       "  background-color: #94b6ff;\n",
       "  color: #000000;\n",
       "}\n",
       "</style>\n",
       "<table id=\"T_d5ac2\">\n",
       "  <thead>\n",
       "    <tr>\n",
       "      <th class=\"blank level0\" >&nbsp;</th>\n",
       "      <th id=\"T_d5ac2_level0_col0\" class=\"col_heading level0 col0\" >price</th>\n",
       "      <th id=\"T_d5ac2_level0_col1\" class=\"col_heading level0 col1\" >power</th>\n",
       "      <th id=\"T_d5ac2_level0_col2\" class=\"col_heading level0 col2\" >kilometer</th>\n",
       "    </tr>\n",
       "  </thead>\n",
       "  <tbody>\n",
       "    <tr>\n",
       "      <th id=\"T_d5ac2_level0_row0\" class=\"row_heading level0 row0\" >price</th>\n",
       "      <td id=\"T_d5ac2_row0_col0\" class=\"data row0 col0\" >1.000000</td>\n",
       "      <td id=\"T_d5ac2_row0_col1\" class=\"data row0 col1\" >0.160720</td>\n",
       "      <td id=\"T_d5ac2_row0_col2\" class=\"data row0 col2\" >-0.336855</td>\n",
       "    </tr>\n",
       "    <tr>\n",
       "      <th id=\"T_d5ac2_level0_row1\" class=\"row_heading level0 row1\" >power</th>\n",
       "      <td id=\"T_d5ac2_row1_col0\" class=\"data row1 col0\" >0.160720</td>\n",
       "      <td id=\"T_d5ac2_row1_col1\" class=\"data row1 col1\" >1.000000</td>\n",
       "      <td id=\"T_d5ac2_row1_col2\" class=\"data row1 col2\" >0.024116</td>\n",
       "    </tr>\n",
       "    <tr>\n",
       "      <th id=\"T_d5ac2_level0_row2\" class=\"row_heading level0 row2\" >kilometer</th>\n",
       "      <td id=\"T_d5ac2_row2_col0\" class=\"data row2 col0\" >-0.336855</td>\n",
       "      <td id=\"T_d5ac2_row2_col1\" class=\"data row2 col1\" >0.024116</td>\n",
       "      <td id=\"T_d5ac2_row2_col2\" class=\"data row2 col2\" >1.000000</td>\n",
       "    </tr>\n",
       "  </tbody>\n",
       "</table>\n"
      ],
      "text/plain": [
       "<pandas.io.formats.style.Styler at 0x18d87bcf7c0>"
      ]
     },
     "execution_count": 24,
     "metadata": {},
     "output_type": "execute_result"
    }
   ],
   "source": [
    "df_copy[['price', 'power', 'kilometer']].corr().style.background_gradient(cmap='coolwarm')"
   ]
  },
  {
   "cell_type": "code",
   "execution_count": 25,
   "id": "e7b938da-31a0-46d1-a1da-5151b3b5a749",
   "metadata": {},
   "outputs": [],
   "source": [
    "def plot():\n",
    "    columns = ['price', 'power', 'kilometer']\n",
    "    names = ['Цена(евро)', 'Мощность(л.с)', 'Пробег(км.)']\n",
    "\n",
    "    for column, name in zip(columns, names):\n",
    "        fig, ax = plt.subplots(1, 2, figsize=(15,5))\n",
    "        sns.boxplot(data=df_copy, x=df_copy[column], orient='h', color='thistle', ax=ax[0])\n",
    "        sns.histplot(data=df_copy, x=df_copy[column], color='#FFB28B', bins=50, kde=True, stat='count', ax=ax[1])\n",
    "        ax[0].set(xlabel=name)\n",
    "        ax[1].set(xlabel=name)\n",
    "        ax[1].set(ylabel='Количество объявлений')\n",
    "        fig.suptitle(column, fontsize=15)\n",
    "    plt.show()"
   ]
  },
  {
   "cell_type": "code",
   "execution_count": 26,
   "id": "b61b2c53-89b7-4eb5-8297-6b2ae3796185",
   "metadata": {},
   "outputs": [
    {
     "data": {
      "image/png": "[encoded data removed]",
      "text/plain": [
       "<Figure size 1500x500 with 2 Axes>"
      ]
     },
     "metadata": {},
     "output_type": "display_data"
    },
    {
     "data": {
      "image/png": "[encoded data removed]",
      "text/plain": [
       "<Figure size 1500x500 with 2 Axes>"
      ]
     },
     "metadata": {},
     "output_type": "display_data"
    },
    {
     "data": {
      "image/png": "[encoded data removed]",
      "text/plain": [
       "<Figure size 1500x500 with 2 Axes>"
      ]
     },
     "metadata": {},
     "output_type": "display_data"
    }
   ],
   "source": [
    "plot()"
   ]
  },
  {
   "cell_type": "markdown",
   "id": "0052304b-c677-4845-8ffb-444cd9ddbb5e",
   "metadata": {},
   "source": [
    "Мультиколлинеарности между признаками нет, что хорошо.\n",
    "\n",
    "Однако присутствуют выбросы. Обработаем признаки `price` и `power`. Данные о пробеге трогать не будем, выбросов мало и невысокие показатели этого признака вполне имеют место быть, в отличие от мощности двигателя в 2000 л.с. "
   ]
  },
  {
   "cell_type": "markdown",
   "id": "f469f9be-90b4-4d51-8874-666c12cfe2ef",
   "metadata": {},
   "source": [
    "PRICE"
   ]
  },
  {
   "cell_type": "markdown",
   "id": "3d5b0e82-34fa-4c6d-ae67-ea41cacc60a2",
   "metadata": {},
   "source": [
    "Поставим порог для `price` в 100, так как нулевые и просто низкие значения для нас не будут иметь релевантности (возможно продавцы выставляют их для договорной цены). Проверим количество таких наблюдений и удалим их."
   ]
  },
  {
   "cell_type": "code",
   "execution_count": 27,
   "id": "ad9edfdf-60cf-456d-b38a-593a3911fbed",
   "metadata": {},
   "outputs": [
    {
     "data": {
      "text/plain": [
       "10398"
      ]
     },
     "execution_count": 27,
     "metadata": {},
     "output_type": "execute_result"
    }
   ],
   "source": [
    "# проверяем количество низких значений\n",
    "df_copy[df_copy['price'] < 100]['price'].count()"
   ]
  },
  {
   "cell_type": "code",
   "execution_count": 28,
   "id": "8666e055-9a33-422b-b131-c887bc21043a",
   "metadata": {},
   "outputs": [],
   "source": [
    "# удаляем строки с недопустимыми значениями\n",
    "df_copy = df_copy[df_copy['price'] > 100]"
   ]
  },
  {
   "cell_type": "markdown",
   "id": "442bf531-8123-4a4c-aca1-9f92934edd8b",
   "metadata": {},
   "source": [
    "POWER"
   ]
  },
  {
   "cell_type": "markdown",
   "id": "09628475-e847-4126-8909-6a23717986bf",
   "metadata": {},
   "source": [
    "Средняя мощность большинства автомобилей составляет от 170 до 250 лошадиных сил; автомобили повышенной проходимости и автомобили класса люкс, скорее всего, будут иметь мощность ближе к 300-350 лошадиным силам. \n",
    "\n",
    "Поставим порог `power` от 30 до 350 лошадиных сил. Удалим строки с недопустимыми значениями."
   ]
  },
  {
   "cell_type": "code",
   "execution_count": 29,
   "id": "c1597313-7b17-4d29-9256-3a9627f09cac",
   "metadata": {},
   "outputs": [
    {
     "data": {
      "text/plain": [
       "27702"
      ]
     },
     "execution_count": 29,
     "metadata": {},
     "output_type": "execute_result"
    }
   ],
   "source": [
    "# проверяем количество низких значений\n",
    "df_copy[df_copy['power'] < 30 ]['power'].count()"
   ]
  },
  {
   "cell_type": "code",
   "execution_count": 30,
   "id": "edab1eca-f700-44a0-99bc-d83c5dd827ec",
   "metadata": {},
   "outputs": [
    {
     "data": {
      "text/plain": [
       "1001"
      ]
     },
     "execution_count": 30,
     "metadata": {},
     "output_type": "execute_result"
    }
   ],
   "source": [
    "# проверяем количество высоких значений\n",
    "df_copy[df_copy['power'] > 350 ]['power'].count()"
   ]
  },
  {
   "cell_type": "code",
   "execution_count": 31,
   "id": "0bd5fb3e-0bd2-411c-9978-de79a6315271",
   "metadata": {},
   "outputs": [],
   "source": [
    "# удаляем строки с недопустимыми значениями\n",
    "df_copy = df_copy[~((df_copy['power'] < 30) | (df_copy['power'] > 350))]"
   ]
  },
  {
   "cell_type": "markdown",
   "id": "b14b5f89-7fee-4c7f-83f3-b070a406d9bf",
   "metadata": {},
   "source": [
    "Приведем типы данных к целочисленным."
   ]
  },
  {
   "cell_type": "code",
   "execution_count": 32,
   "id": "cf47870f-12b7-4bbf-b99e-2c68b55a96e5",
   "metadata": {},
   "outputs": [],
   "source": [
    "df_copy[['price', 'power']] = df_copy[['price', 'power']].astype('int64')"
   ]
  },
  {
   "cell_type": "markdown",
   "id": "631d8ce6-887a-4dfb-8523-e083a404d13b",
   "metadata": {},
   "source": [
    "Проверим целостность датафрейма."
   ]
  },
  {
   "cell_type": "code",
   "execution_count": 33,
   "id": "185453fa-562a-4cfb-b09b-b0144cbfe24b",
   "metadata": {},
   "outputs": [
    {
     "name": "stdout",
     "output_type": "stream",
     "text": [
      "Процент данных в обработанном датафрейме от изначального датафрейма 74.81410620003443 %\n"
     ]
    }
   ],
   "source": [
    "print('Процент данных в обработанном датафрейме от изначального датафрейма', \n",
    "      df_copy.shape[0]/df.shape[0]*100, '%')"
   ]
  },
  {
   "cell_type": "markdown",
   "id": "f698f81b-9422-4f96-8b62-ff084f6ffa10",
   "metadata": {},
   "source": [
    "Взглянем на графики ещё раз."
   ]
  },
  {
   "cell_type": "code",
   "execution_count": 34,
   "id": "57f29f75-d125-4808-95d5-e0d85de018fd",
   "metadata": {},
   "outputs": [
    {
     "data": {
      "image/png": "[encoded data removed]",
      "text/plain": [
       "<Figure size 1500x500 with 2 Axes>"
      ]
     },
     "metadata": {},
     "output_type": "display_data"
    },
    {
     "data": {
      "image/png": "[encoded data removed]",
      "text/plain": [
       "<Figure size 1500x500 with 2 Axes>"
      ]
     },
     "metadata": {},
     "output_type": "display_data"
    },
    {
     "data": {
      "image/png": "[encoded data removed]",
      "text/plain": [
       "<Figure size 1500x500 with 2 Axes>"
      ]
     },
     "metadata": {},
     "output_type": "display_data"
    }
   ],
   "source": [
    "plot()"
   ]
  },
  {
   "cell_type": "markdown",
   "id": "dcd3e616-16c5-4a2f-8b80-3f2488885e3f",
   "metadata": {},
   "source": [
    "Видно, что бо́льшую часть аномальных значений мы обработали и приблизили показатели к более реалистичным.\n",
    "\n",
    "Перезапишем исходный датасет."
   ]
  },
  {
   "cell_type": "code",
   "execution_count": 35,
   "id": "99fa4c05-40d1-47b5-b673-ad870d970f17",
   "metadata": {},
   "outputs": [
    {
     "name": "stdout",
     "output_type": "stream",
     "text": [
      "<class 'pandas.core.frame.DataFrame'>\n",
      "RangeIndex: 265118 entries, 0 to 265117\n",
      "Data columns (total 11 columns):\n",
      " #   Column              Non-Null Count   Dtype \n",
      "---  ------              --------------   ----- \n",
      " 0   price               265118 non-null  int64 \n",
      " 1   vehicle_type        265118 non-null  object\n",
      " 2   registration_year   265118 non-null  int64 \n",
      " 3   gearbox             265118 non-null  object\n",
      " 4   power               265118 non-null  int64 \n",
      " 5   model               265118 non-null  object\n",
      " 6   kilometer           265118 non-null  int64 \n",
      " 7   registration_month  265118 non-null  int64 \n",
      " 8   fuel_type           265118 non-null  object\n",
      " 9   brand               265118 non-null  object\n",
      " 10  repaired            265118 non-null  object\n",
      "dtypes: int64(5), object(6)\n",
      "memory usage: 22.2+ MB\n"
     ]
    }
   ],
   "source": [
    "df_copy.reset_index(inplace=True, drop=True)\n",
    "df = df_copy\n",
    "df.info()"
   ]
  },
  {
   "cell_type": "markdown",
   "id": "51092e6b-9062-4786-a286-02799f5ec535",
   "metadata": {},
   "source": [
    "<h3>Вывод"
   ]
  },
  {
   "cell_type": "markdown",
   "id": "d0db2868-8ece-4e01-9c51-21ba455050b3",
   "metadata": {},
   "source": [
    "В блоке предобработки данных мы:\n",
    "\n",
    "- Привели названия столбцов к стилю snake_case\n",
    "- Удалили неинформативные столбцы\n",
    "- Обработали дубликаты и удалили их\n",
    "- Обработали пропуски и заполнили их\n",
    "- Обработали выбросы и аномальные значения"
   ]
  },
  {
   "cell_type": "markdown",
   "id": "79b571c9",
   "metadata": {},
   "source": [
    "<a id='3'></a>"
   ]
  },
  {
   "cell_type": "markdown",
   "id": "0dea5103-d7a6-447c-b199-0e2846d3d039",
   "metadata": {},
   "source": [
    "<h2>Машинное обучение"
   ]
  },
  {
   "cell_type": "markdown",
   "id": "340ccf0a-26db-4900-88e0-cc5fbd051926",
   "metadata": {},
   "source": [
    "Подготовим данные для машинного обучения.\n",
    "\n",
    "- Объявим две переменные:\n",
    "  - Сохраним в `features` признаки\n",
    "  - Сохраним в `target` целевой признак\n",
    "- Разделим данные на тренировочную и тестовую выборки\n",
    "- Применим One-Hot Encoding\n",
    "- Применим StandardScaler"
   ]
  },
  {
   "cell_type": "markdown",
   "id": "b84ff5b5-021f-4424-b765-fe050eeacbd9",
   "metadata": {},
   "source": [
    "<h3> Features и Target"
   ]
  },
  {
   "cell_type": "markdown",
   "id": "244531bb-aaef-49ff-ad54-68b074739781",
   "metadata": {},
   "source": [
    "Объявим две переменные:\n",
    "- features\n",
    "- target"
   ]
  },
  {
   "cell_type": "code",
   "execution_count": 36,
   "id": "b168007b-b29f-47a6-a149-bc26f059030f",
   "metadata": {},
   "outputs": [],
   "source": [
    "features = df.drop('price', axis=1)\n",
    "target = df['price']"
   ]
  },
  {
   "cell_type": "markdown",
   "id": "32da4a9c-6677-4fa3-ba6f-ac38ddc22d34",
   "metadata": {},
   "source": [
    "Взглянем на их размерность."
   ]
  },
  {
   "cell_type": "code",
   "execution_count": 37,
   "id": "f6e4d2da-ea9e-4e5c-a9e9-0a3d451d723e",
   "metadata": {},
   "outputs": [
    {
     "data": {
      "text/plain": [
       "((265118, 10), (265118,))"
      ]
     },
     "execution_count": 37,
     "metadata": {},
     "output_type": "execute_result"
    }
   ],
   "source": [
    "features.shape, target.shape"
   ]
  },
  {
   "cell_type": "markdown",
   "id": "c1ccecae-144a-4d4b-af9f-0a19efa92654",
   "metadata": {},
   "source": [
    "Разделим данные на обучающую и тестовую выборки в соотношении 75:25."
   ]
  },
  {
   "cell_type": "code",
   "execution_count": 38,
   "id": "d264adcb-7ade-485a-b229-ca36adf20a9a",
   "metadata": {},
   "outputs": [],
   "source": [
    "# обучающая и тестовая выборки\n",
    "(features_train, features_test,\n",
    " target_train, target_test) = train_test_split(features, \n",
    "                                               target, \n",
    "                                               test_size = 0.25, \n",
    "                                               random_state=SEED)"
   ]
  },
  {
   "cell_type": "markdown",
   "id": "58cafb9a",
   "metadata": {},
   "source": [
    "Проверим их размерность."
   ]
  },
  {
   "cell_type": "code",
   "execution_count": 39,
   "id": "2bb7c835",
   "metadata": {},
   "outputs": [
    {
     "name": "stdout",
     "output_type": "stream",
     "text": [
      "Train: ((198838, 10), (198838,))\n",
      "Test: ((66280, 10), (66280,))\n"
     ]
    }
   ],
   "source": [
    "print(f'Train: {features_train.shape, target_train.shape}')\n",
    "print(f'Test: {features_test.shape, target_test.shape}')"
   ]
  },
  {
   "cell_type": "markdown",
   "id": "e17c8d54-edc0-44a1-8d4e-2f26f2fed0aa",
   "metadata": {},
   "source": [
    "Создадим копии выборок для моделей бустинга."
   ]
  },
  {
   "cell_type": "code",
   "execution_count": 40,
   "id": "d0e1942d-c70b-456d-8f53-0f6d3a7ea3ab",
   "metadata": {},
   "outputs": [],
   "source": [
    "# для lightgbm\n",
    "features_train_lgbm = features_train.copy()\n",
    "features_test_lgbm = features_test.copy()"
   ]
  },
  {
   "cell_type": "code",
   "execution_count": 41,
   "id": "941a7f95-9223-441b-bab2-6b8daac8ee68",
   "metadata": {},
   "outputs": [],
   "source": [
    "# для catboost\n",
    "features_train_catb = features_train.copy()\n",
    "features_test_catb = features_test.copy()"
   ]
  },
  {
   "cell_type": "markdown",
   "id": "0e5f9f6a-79ef-4fb7-afde-55205a7b08c5",
   "metadata": {},
   "source": [
    "<h3> One-Hot Encoding и StandardScaler"
   ]
  },
  {
   "cell_type": "markdown",
   "id": "179c3a10-03f1-4d94-8838-62dc3b2047da",
   "metadata": {},
   "source": [
    "Сначала поработаем с выборками не бустинговых моделей.\n",
    "\n",
    "Применим OHE к категориальным признакам."
   ]
  },
  {
   "cell_type": "markdown",
   "id": "adfbcb76-2bd6-411b-a045-2e11e7509894",
   "metadata": {},
   "source": [
    "# выделим категориальные признаки для обычных моделей\n",
    "# выделяем месяц как категориальный признак\n",
    "categorial = ['vehicle_type', 'gearbox', \n",
    "              'model', 'fuel_type', \n",
    "              'brand', 'repaired', \n",
    "              'registration_month']"
   ]
  },
  {
   "cell_type": "code",
   "execution_count": 42,
   "id": "9a353c63-0213-4171-ad2d-030eae0a2efe",
   "metadata": {},
   "outputs": [],
   "source": [
    "# выделим категориальные признаки для бустингов. \n",
    "# месяц не вписываем, потому что данные целочисленные, бустинг такое не пропустит\n",
    "categorial = ['vehicle_type', 'gearbox', \n",
    "                'model', 'fuel_type', \n",
    "                'brand', 'repaired']"
   ]
  },
  {
   "cell_type": "code",
   "execution_count": 43,
   "id": "42b36ce4-b1bf-48bd-ae02-be3e8ad13173",
   "metadata": {},
   "outputs": [],
   "source": [
    "# Для LGBM дополнительно обработаем категориальные признаки\n",
    "features_train_lgbm[categorial] = features_train_lgbm[categorial].astype('category')\n",
    "features_test_lgbm[categorial] =  features_test_lgbm[categorial].astype('category')"
   ]
  },
  {
   "cell_type": "code",
   "execution_count": 44,
   "id": "8895aaba-e69c-4adc-853f-5982eb37a38c",
   "metadata": {},
   "outputs": [
    {
     "data": {
      "text/html": [
       "<style>#sk-container-id-1 {color: black;}#sk-container-id-1 pre{padding: 0;}#sk-container-id-1 div.sk-toggleable {background-color: white;}#sk-container-id-1 label.sk-toggleable__label {cursor: pointer;display: block;width: 100%;margin-bottom: 0;padding: 0.3em;box-sizing: border-box;text-align: center;}#sk-container-id-1 label.sk-toggleable__label-arrow:before {content: \"▸\";float: left;margin-right: 0.25em;color: #696969;}#sk-container-id-1 label.sk-toggleable__label-arrow:hover:before {color: black;}#sk-container-id-1 div.sk-estimator:hover label.sk-toggleable__label-arrow:before {color: black;}#sk-container-id-1 div.sk-toggleable__content {max-height: 0;max-width: 0;overflow: hidden;text-align: left;background-color: #f0f8ff;}#sk-container-id-1 div.sk-toggleable__content pre {margin: 0.2em;color: black;border-radius: 0.25em;background-color: #f0f8ff;}#sk-container-id-1 input.sk-toggleable__control:checked~div.sk-toggleable__content {max-height: 200px;max-width: 100%;overflow: auto;}#sk-container-id-1 input.sk-toggleable__control:checked~label.sk-toggleable__label-arrow:before {content: \"▾\";}#sk-container-id-1 div.sk-estimator input.sk-toggleable__control:checked~label.sk-toggleable__label {background-color: #d4ebff;}#sk-container-id-1 div.sk-label input.sk-toggleable__control:checked~label.sk-toggleable__label {background-color: #d4ebff;}#sk-container-id-1 input.sk-hidden--visually {border: 0;clip: rect(1px 1px 1px 1px);clip: rect(1px, 1px, 1px, 1px);height: 1px;margin: -1px;overflow: hidden;padding: 0;position: absolute;width: 1px;}#sk-container-id-1 div.sk-estimator {font-family: monospace;background-color: #f0f8ff;border: 1px dotted black;border-radius: 0.25em;box-sizing: border-box;margin-bottom: 0.5em;}#sk-container-id-1 div.sk-estimator:hover {background-color: #d4ebff;}#sk-container-id-1 div.sk-parallel-item::after {content: \"\";width: 100%;border-bottom: 1px solid gray;flex-grow: 1;}#sk-container-id-1 div.sk-label:hover label.sk-toggleable__label {background-color: #d4ebff;}#sk-container-id-1 div.sk-serial::before {content: \"\";position: absolute;border-left: 1px solid gray;box-sizing: border-box;top: 0;bottom: 0;left: 50%;z-index: 0;}#sk-container-id-1 div.sk-serial {display: flex;flex-direction: column;align-items: center;background-color: white;padding-right: 0.2em;padding-left: 0.2em;position: relative;}#sk-container-id-1 div.sk-item {position: relative;z-index: 1;}#sk-container-id-1 div.sk-parallel {display: flex;align-items: stretch;justify-content: center;background-color: white;position: relative;}#sk-container-id-1 div.sk-item::before, #sk-container-id-1 div.sk-parallel-item::before {content: \"\";position: absolute;border-left: 1px solid gray;box-sizing: border-box;top: 0;bottom: 0;left: 50%;z-index: -1;}#sk-container-id-1 div.sk-parallel-item {display: flex;flex-direction: column;z-index: 1;position: relative;background-color: white;}#sk-container-id-1 div.sk-parallel-item:first-child::after {align-self: flex-end;width: 50%;}#sk-container-id-1 div.sk-parallel-item:last-child::after {align-self: flex-start;width: 50%;}#sk-container-id-1 div.sk-parallel-item:only-child::after {width: 0;}#sk-container-id-1 div.sk-dashed-wrapped {border: 1px dashed gray;margin: 0 0.4em 0.5em 0.4em;box-sizing: border-box;padding-bottom: 0.4em;background-color: white;}#sk-container-id-1 div.sk-label label {font-family: monospace;font-weight: bold;display: inline-block;line-height: 1.2em;}#sk-container-id-1 div.sk-label-container {text-align: center;}#sk-container-id-1 div.sk-container {/* jupyter's `normalize.less` sets `[hidden] { display: none; }` but bootstrap.min.css set `[hidden] { display: none !important; }` so we also need the `!important` here to be able to override the default hidden behavior on the sphinx rendered scikit-learn.org. See: https://github.com/scikit-learn/scikit-learn/issues/21755 */display: inline-block !important;position: relative;}#sk-container-id-1 div.sk-text-repr-fallback {display: none;}</style><div id=\"sk-container-id-1\" class=\"sk-top-container\"><div class=\"sk-text-repr-fallback\"><pre>OneHotEncoder(drop=&#x27;first&#x27;, handle_unknown=&#x27;ignore&#x27;, sparse=False,\n",
       "              sparse_output=False)</pre><b>In a Jupyter environment, please rerun this cell to show the HTML representation or trust the notebook. <br />On GitHub, the HTML representation is unable to render, please try loading this page with nbviewer.org.</b></div><div class=\"sk-container\" hidden><div class=\"sk-item\"><div class=\"sk-estimator sk-toggleable\"><input class=\"sk-toggleable__control sk-hidden--visually\" id=\"sk-estimator-id-1\" type=\"checkbox\" checked><label for=\"sk-estimator-id-1\" class=\"sk-toggleable__label sk-toggleable__label-arrow\">OneHotEncoder</label><div class=\"sk-toggleable__content\"><pre>OneHotEncoder(drop=&#x27;first&#x27;, handle_unknown=&#x27;ignore&#x27;, sparse=False,\n",
       "              sparse_output=False)</pre></div></div></div></div></div>"
      ],
      "text/plain": [
       "OneHotEncoder(drop='first', handle_unknown='ignore', sparse=False,\n",
       "              sparse_output=False)"
      ]
     },
     "execution_count": 44,
     "metadata": {},
     "output_type": "execute_result"
    }
   ],
   "source": [
    "# обучим модель на тренировочной выборке\n",
    "ohe = OneHotEncoder(drop='first', handle_unknown='ignore', sparse=False)\n",
    "ohe.fit(features_train[categorial])"
   ]
  },
  {
   "cell_type": "code",
   "execution_count": 45,
   "id": "00e646bb-18f7-48ff-acce-7a6dcfd00365",
   "metadata": {},
   "outputs": [],
   "source": [
    "# энкодером, который обучен на ТРЕНИРОВОЧНОЙ ВЫБОРКЕ, кодируем тренировочную\n",
    "features_train[\n",
    "    ohe.get_feature_names_out()\n",
    "] = ohe.transform(features_train[categorial])\n",
    "\n",
    "# удалим незакодированные категориальные признаки\n",
    "features_train = features_train.drop(categorial, axis=1)"
   ]
  },
  {
   "cell_type": "code",
   "execution_count": 46,
   "id": "34f55085-8518-48af-aec7-0c91421ea16d",
   "metadata": {},
   "outputs": [],
   "source": [
    "# энкодером, который обучен на ТРЕНИРОВОЧНОЙ ВЫБОРКЕ, кодируем тестовую\n",
    "features_test[\n",
    "    ohe.get_feature_names_out()\n",
    "] = ohe.transform(features_test[categorial])\n",
    "\n",
    "# удалим незакодированные категориальные признаки\n",
    "features_test = features_test.drop(categorial, axis=1)"
   ]
  },
  {
   "cell_type": "markdown",
   "id": "e60130ec-5e2e-423b-8785-be760a585b48",
   "metadata": {},
   "source": [
    "Выведем на экран получившиеся таблицы."
   ]
  },
  {
   "cell_type": "code",
   "execution_count": 47,
   "id": "a1f021ff-06ab-49d0-a219-a106122f2ff9",
   "metadata": {},
   "outputs": [
    {
     "data": {
      "text/html": [
       "<div>\n",
       "<style scoped>\n",
       "    .dataframe tbody tr th:only-of-type {\n",
       "        vertical-align: middle;\n",
       "    }\n",
       "\n",
       "    .dataframe tbody tr th {\n",
       "        vertical-align: top;\n",
       "    }\n",
       "\n",
       "    .dataframe thead th {\n",
       "        text-align: right;\n",
       "    }\n",
       "</style>\n",
       "<table border=\"1\" class=\"dataframe\">\n",
       "  <thead>\n",
       "    <tr style=\"text-align: right;\">\n",
       "      <th></th>\n",
       "      <th>registration_year</th>\n",
       "      <th>power</th>\n",
       "      <th>kilometer</th>\n",
       "      <th>registration_month</th>\n",
       "      <th>vehicle_type_convertible</th>\n",
       "      <th>vehicle_type_coupe</th>\n",
       "      <th>vehicle_type_other</th>\n",
       "      <th>vehicle_type_sedan</th>\n",
       "      <th>vehicle_type_small</th>\n",
       "      <th>vehicle_type_suv</th>\n",
       "      <th>...</th>\n",
       "      <th>brand_smart</th>\n",
       "      <th>brand_sonstige_autos</th>\n",
       "      <th>brand_subaru</th>\n",
       "      <th>brand_suzuki</th>\n",
       "      <th>brand_toyota</th>\n",
       "      <th>brand_trabant</th>\n",
       "      <th>brand_volkswagen</th>\n",
       "      <th>brand_volvo</th>\n",
       "      <th>repaired_no</th>\n",
       "      <th>repaired_yes</th>\n",
       "    </tr>\n",
       "  </thead>\n",
       "  <tbody>\n",
       "    <tr>\n",
       "      <th>160604</th>\n",
       "      <td>2006</td>\n",
       "      <td>105</td>\n",
       "      <td>150000</td>\n",
       "      <td>5</td>\n",
       "      <td>0.0</td>\n",
       "      <td>0.0</td>\n",
       "      <td>0.0</td>\n",
       "      <td>0.0</td>\n",
       "      <td>1.0</td>\n",
       "      <td>0.0</td>\n",
       "      <td>...</td>\n",
       "      <td>0.0</td>\n",
       "      <td>0.0</td>\n",
       "      <td>0.0</td>\n",
       "      <td>0.0</td>\n",
       "      <td>0.0</td>\n",
       "      <td>0.0</td>\n",
       "      <td>0.0</td>\n",
       "      <td>0.0</td>\n",
       "      <td>0.0</td>\n",
       "      <td>0.0</td>\n",
       "    </tr>\n",
       "    <tr>\n",
       "      <th>33915</th>\n",
       "      <td>2007</td>\n",
       "      <td>143</td>\n",
       "      <td>150000</td>\n",
       "      <td>12</td>\n",
       "      <td>0.0</td>\n",
       "      <td>0.0</td>\n",
       "      <td>0.0</td>\n",
       "      <td>0.0</td>\n",
       "      <td>0.0</td>\n",
       "      <td>0.0</td>\n",
       "      <td>...</td>\n",
       "      <td>0.0</td>\n",
       "      <td>0.0</td>\n",
       "      <td>0.0</td>\n",
       "      <td>0.0</td>\n",
       "      <td>0.0</td>\n",
       "      <td>0.0</td>\n",
       "      <td>0.0</td>\n",
       "      <td>0.0</td>\n",
       "      <td>1.0</td>\n",
       "      <td>0.0</td>\n",
       "    </tr>\n",
       "    <tr>\n",
       "      <th>212926</th>\n",
       "      <td>2009</td>\n",
       "      <td>136</td>\n",
       "      <td>150000</td>\n",
       "      <td>9</td>\n",
       "      <td>0.0</td>\n",
       "      <td>0.0</td>\n",
       "      <td>0.0</td>\n",
       "      <td>0.0</td>\n",
       "      <td>0.0</td>\n",
       "      <td>0.0</td>\n",
       "      <td>...</td>\n",
       "      <td>0.0</td>\n",
       "      <td>0.0</td>\n",
       "      <td>0.0</td>\n",
       "      <td>0.0</td>\n",
       "      <td>0.0</td>\n",
       "      <td>0.0</td>\n",
       "      <td>0.0</td>\n",
       "      <td>0.0</td>\n",
       "      <td>1.0</td>\n",
       "      <td>0.0</td>\n",
       "    </tr>\n",
       "    <tr>\n",
       "      <th>61954</th>\n",
       "      <td>2005</td>\n",
       "      <td>143</td>\n",
       "      <td>150000</td>\n",
       "      <td>9</td>\n",
       "      <td>0.0</td>\n",
       "      <td>1.0</td>\n",
       "      <td>0.0</td>\n",
       "      <td>0.0</td>\n",
       "      <td>0.0</td>\n",
       "      <td>0.0</td>\n",
       "      <td>...</td>\n",
       "      <td>0.0</td>\n",
       "      <td>0.0</td>\n",
       "      <td>0.0</td>\n",
       "      <td>0.0</td>\n",
       "      <td>0.0</td>\n",
       "      <td>0.0</td>\n",
       "      <td>0.0</td>\n",
       "      <td>0.0</td>\n",
       "      <td>1.0</td>\n",
       "      <td>0.0</td>\n",
       "    </tr>\n",
       "    <tr>\n",
       "      <th>77085</th>\n",
       "      <td>2009</td>\n",
       "      <td>160</td>\n",
       "      <td>125000</td>\n",
       "      <td>9</td>\n",
       "      <td>0.0</td>\n",
       "      <td>0.0</td>\n",
       "      <td>0.0</td>\n",
       "      <td>1.0</td>\n",
       "      <td>0.0</td>\n",
       "      <td>0.0</td>\n",
       "      <td>...</td>\n",
       "      <td>0.0</td>\n",
       "      <td>0.0</td>\n",
       "      <td>0.0</td>\n",
       "      <td>0.0</td>\n",
       "      <td>0.0</td>\n",
       "      <td>0.0</td>\n",
       "      <td>1.0</td>\n",
       "      <td>0.0</td>\n",
       "      <td>1.0</td>\n",
       "      <td>0.0</td>\n",
       "    </tr>\n",
       "  </tbody>\n",
       "</table>\n",
       "<p>5 rows × 306 columns</p>\n",
       "</div>"
      ],
      "text/plain": [
       "        registration_year  power  kilometer  registration_month  \\\n",
       "160604               2006    105     150000                   5   \n",
       "33915                2007    143     150000                  12   \n",
       "212926               2009    136     150000                   9   \n",
       "61954                2005    143     150000                   9   \n",
       "77085                2009    160     125000                   9   \n",
       "\n",
       "        vehicle_type_convertible  vehicle_type_coupe  vehicle_type_other  \\\n",
       "160604                       0.0                 0.0                 0.0   \n",
       "33915                        0.0                 0.0                 0.0   \n",
       "212926                       0.0                 0.0                 0.0   \n",
       "61954                        0.0                 1.0                 0.0   \n",
       "77085                        0.0                 0.0                 0.0   \n",
       "\n",
       "        vehicle_type_sedan  vehicle_type_small  vehicle_type_suv  ...  \\\n",
       "160604                 0.0                 1.0               0.0  ...   \n",
       "33915                  0.0                 0.0               0.0  ...   \n",
       "212926                 0.0                 0.0               0.0  ...   \n",
       "61954                  0.0                 0.0               0.0  ...   \n",
       "77085                  1.0                 0.0               0.0  ...   \n",
       "\n",
       "        brand_smart  brand_sonstige_autos  brand_subaru  brand_suzuki  \\\n",
       "160604          0.0                   0.0           0.0           0.0   \n",
       "33915           0.0                   0.0           0.0           0.0   \n",
       "212926          0.0                   0.0           0.0           0.0   \n",
       "61954           0.0                   0.0           0.0           0.0   \n",
       "77085           0.0                   0.0           0.0           0.0   \n",
       "\n",
       "        brand_toyota  brand_trabant  brand_volkswagen  brand_volvo  \\\n",
       "160604           0.0            0.0               0.0          0.0   \n",
       "33915            0.0            0.0               0.0          0.0   \n",
       "212926           0.0            0.0               0.0          0.0   \n",
       "61954            0.0            0.0               0.0          0.0   \n",
       "77085            0.0            0.0               1.0          0.0   \n",
       "\n",
       "        repaired_no  repaired_yes  \n",
       "160604          0.0           0.0  \n",
       "33915           1.0           0.0  \n",
       "212926          1.0           0.0  \n",
       "61954           1.0           0.0  \n",
       "77085           1.0           0.0  \n",
       "\n",
       "[5 rows x 306 columns]"
      ]
     },
     "metadata": {},
     "output_type": "display_data"
    },
    {
     "data": {
      "text/html": [
       "<div>\n",
       "<style scoped>\n",
       "    .dataframe tbody tr th:only-of-type {\n",
       "        vertical-align: middle;\n",
       "    }\n",
       "\n",
       "    .dataframe tbody tr th {\n",
       "        vertical-align: top;\n",
       "    }\n",
       "\n",
       "    .dataframe thead th {\n",
       "        text-align: right;\n",
       "    }\n",
       "</style>\n",
       "<table border=\"1\" class=\"dataframe\">\n",
       "  <thead>\n",
       "    <tr style=\"text-align: right;\">\n",
       "      <th></th>\n",
       "      <th>registration_year</th>\n",
       "      <th>power</th>\n",
       "      <th>kilometer</th>\n",
       "      <th>registration_month</th>\n",
       "      <th>vehicle_type_convertible</th>\n",
       "      <th>vehicle_type_coupe</th>\n",
       "      <th>vehicle_type_other</th>\n",
       "      <th>vehicle_type_sedan</th>\n",
       "      <th>vehicle_type_small</th>\n",
       "      <th>vehicle_type_suv</th>\n",
       "      <th>...</th>\n",
       "      <th>brand_smart</th>\n",
       "      <th>brand_sonstige_autos</th>\n",
       "      <th>brand_subaru</th>\n",
       "      <th>brand_suzuki</th>\n",
       "      <th>brand_toyota</th>\n",
       "      <th>brand_trabant</th>\n",
       "      <th>brand_volkswagen</th>\n",
       "      <th>brand_volvo</th>\n",
       "      <th>repaired_no</th>\n",
       "      <th>repaired_yes</th>\n",
       "    </tr>\n",
       "  </thead>\n",
       "  <tbody>\n",
       "    <tr>\n",
       "      <th>117362</th>\n",
       "      <td>1999</td>\n",
       "      <td>105</td>\n",
       "      <td>150000</td>\n",
       "      <td>8</td>\n",
       "      <td>0.0</td>\n",
       "      <td>1.0</td>\n",
       "      <td>0.0</td>\n",
       "      <td>0.0</td>\n",
       "      <td>0.0</td>\n",
       "      <td>0.0</td>\n",
       "      <td>...</td>\n",
       "      <td>0.0</td>\n",
       "      <td>0.0</td>\n",
       "      <td>0.0</td>\n",
       "      <td>0.0</td>\n",
       "      <td>0.0</td>\n",
       "      <td>0.0</td>\n",
       "      <td>0.0</td>\n",
       "      <td>0.0</td>\n",
       "      <td>0.0</td>\n",
       "      <td>0.0</td>\n",
       "    </tr>\n",
       "    <tr>\n",
       "      <th>245259</th>\n",
       "      <td>2007</td>\n",
       "      <td>224</td>\n",
       "      <td>150000</td>\n",
       "      <td>1</td>\n",
       "      <td>1.0</td>\n",
       "      <td>0.0</td>\n",
       "      <td>0.0</td>\n",
       "      <td>0.0</td>\n",
       "      <td>0.0</td>\n",
       "      <td>0.0</td>\n",
       "      <td>...</td>\n",
       "      <td>0.0</td>\n",
       "      <td>0.0</td>\n",
       "      <td>0.0</td>\n",
       "      <td>0.0</td>\n",
       "      <td>0.0</td>\n",
       "      <td>0.0</td>\n",
       "      <td>0.0</td>\n",
       "      <td>0.0</td>\n",
       "      <td>1.0</td>\n",
       "      <td>0.0</td>\n",
       "    </tr>\n",
       "    <tr>\n",
       "      <th>256307</th>\n",
       "      <td>2006</td>\n",
       "      <td>272</td>\n",
       "      <td>150000</td>\n",
       "      <td>11</td>\n",
       "      <td>0.0</td>\n",
       "      <td>0.0</td>\n",
       "      <td>0.0</td>\n",
       "      <td>1.0</td>\n",
       "      <td>0.0</td>\n",
       "      <td>0.0</td>\n",
       "      <td>...</td>\n",
       "      <td>0.0</td>\n",
       "      <td>0.0</td>\n",
       "      <td>0.0</td>\n",
       "      <td>0.0</td>\n",
       "      <td>0.0</td>\n",
       "      <td>0.0</td>\n",
       "      <td>0.0</td>\n",
       "      <td>0.0</td>\n",
       "      <td>1.0</td>\n",
       "      <td>0.0</td>\n",
       "    </tr>\n",
       "    <tr>\n",
       "      <th>15674</th>\n",
       "      <td>2000</td>\n",
       "      <td>122</td>\n",
       "      <td>150000</td>\n",
       "      <td>0</td>\n",
       "      <td>0.0</td>\n",
       "      <td>0.0</td>\n",
       "      <td>1.0</td>\n",
       "      <td>0.0</td>\n",
       "      <td>0.0</td>\n",
       "      <td>0.0</td>\n",
       "      <td>...</td>\n",
       "      <td>0.0</td>\n",
       "      <td>0.0</td>\n",
       "      <td>0.0</td>\n",
       "      <td>0.0</td>\n",
       "      <td>0.0</td>\n",
       "      <td>0.0</td>\n",
       "      <td>0.0</td>\n",
       "      <td>0.0</td>\n",
       "      <td>1.0</td>\n",
       "      <td>0.0</td>\n",
       "    </tr>\n",
       "    <tr>\n",
       "      <th>56946</th>\n",
       "      <td>2001</td>\n",
       "      <td>80</td>\n",
       "      <td>150000</td>\n",
       "      <td>4</td>\n",
       "      <td>0.0</td>\n",
       "      <td>0.0</td>\n",
       "      <td>0.0</td>\n",
       "      <td>0.0</td>\n",
       "      <td>0.0</td>\n",
       "      <td>0.0</td>\n",
       "      <td>...</td>\n",
       "      <td>0.0</td>\n",
       "      <td>0.0</td>\n",
       "      <td>0.0</td>\n",
       "      <td>0.0</td>\n",
       "      <td>0.0</td>\n",
       "      <td>0.0</td>\n",
       "      <td>0.0</td>\n",
       "      <td>0.0</td>\n",
       "      <td>1.0</td>\n",
       "      <td>0.0</td>\n",
       "    </tr>\n",
       "  </tbody>\n",
       "</table>\n",
       "<p>5 rows × 306 columns</p>\n",
       "</div>"
      ],
      "text/plain": [
       "        registration_year  power  kilometer  registration_month  \\\n",
       "117362               1999    105     150000                   8   \n",
       "245259               2007    224     150000                   1   \n",
       "256307               2006    272     150000                  11   \n",
       "15674                2000    122     150000                   0   \n",
       "56946                2001     80     150000                   4   \n",
       "\n",
       "        vehicle_type_convertible  vehicle_type_coupe  vehicle_type_other  \\\n",
       "117362                       0.0                 1.0                 0.0   \n",
       "245259                       1.0                 0.0                 0.0   \n",
       "256307                       0.0                 0.0                 0.0   \n",
       "15674                        0.0                 0.0                 1.0   \n",
       "56946                        0.0                 0.0                 0.0   \n",
       "\n",
       "        vehicle_type_sedan  vehicle_type_small  vehicle_type_suv  ...  \\\n",
       "117362                 0.0                 0.0               0.0  ...   \n",
       "245259                 0.0                 0.0               0.0  ...   \n",
       "256307                 1.0                 0.0               0.0  ...   \n",
       "15674                  0.0                 0.0               0.0  ...   \n",
       "56946                  0.0                 0.0               0.0  ...   \n",
       "\n",
       "        brand_smart  brand_sonstige_autos  brand_subaru  brand_suzuki  \\\n",
       "117362          0.0                   0.0           0.0           0.0   \n",
       "245259          0.0                   0.0           0.0           0.0   \n",
       "256307          0.0                   0.0           0.0           0.0   \n",
       "15674           0.0                   0.0           0.0           0.0   \n",
       "56946           0.0                   0.0           0.0           0.0   \n",
       "\n",
       "        brand_toyota  brand_trabant  brand_volkswagen  brand_volvo  \\\n",
       "117362           0.0            0.0               0.0          0.0   \n",
       "245259           0.0            0.0               0.0          0.0   \n",
       "256307           0.0            0.0               0.0          0.0   \n",
       "15674            0.0            0.0               0.0          0.0   \n",
       "56946            0.0            0.0               0.0          0.0   \n",
       "\n",
       "        repaired_no  repaired_yes  \n",
       "117362          0.0           0.0  \n",
       "245259          1.0           0.0  \n",
       "256307          1.0           0.0  \n",
       "15674           1.0           0.0  \n",
       "56946           1.0           0.0  \n",
       "\n",
       "[5 rows x 306 columns]"
      ]
     },
     "metadata": {},
     "output_type": "display_data"
    }
   ],
   "source": [
    "display(features_train.head())\n",
    "display(features_test.head())"
   ]
  },
  {
   "cell_type": "markdown",
   "id": "39281ba8-b9ff-4e6c-8a30-2f96108745b3",
   "metadata": {},
   "source": [
    "Стандартизируем признаки `power`, `kilometer` и `registration_year`, так как из-за их разного масштаба алгоритм может решить, что какой-то из них важнее остальных."
   ]
  },
  {
   "cell_type": "code",
   "execution_count": 48,
   "id": "571e670a-e38a-4b1f-8cf3-2f76bd4a6aeb",
   "metadata": {},
   "outputs": [],
   "source": [
    "# выделим нужные числовые признаки\n",
    "numeric = ['power', 'kilometer', 'registration_year', 'registration_month']"
   ]
  },
  {
   "cell_type": "code",
   "execution_count": 49,
   "id": "657ad6f2-aaa5-426b-adc1-2a86eaa92fa9",
   "metadata": {},
   "outputs": [
    {
     "data": {
      "text/html": [
       "<style>#sk-container-id-2 {color: black;}#sk-container-id-2 pre{padding: 0;}#sk-container-id-2 div.sk-toggleable {background-color: white;}#sk-container-id-2 label.sk-toggleable__label {cursor: pointer;display: block;width: 100%;margin-bottom: 0;padding: 0.3em;box-sizing: border-box;text-align: center;}#sk-container-id-2 label.sk-toggleable__label-arrow:before {content: \"▸\";float: left;margin-right: 0.25em;color: #696969;}#sk-container-id-2 label.sk-toggleable__label-arrow:hover:before {color: black;}#sk-container-id-2 div.sk-estimator:hover label.sk-toggleable__label-arrow:before {color: black;}#sk-container-id-2 div.sk-toggleable__content {max-height: 0;max-width: 0;overflow: hidden;text-align: left;background-color: #f0f8ff;}#sk-container-id-2 div.sk-toggleable__content pre {margin: 0.2em;color: black;border-radius: 0.25em;background-color: #f0f8ff;}#sk-container-id-2 input.sk-toggleable__control:checked~div.sk-toggleable__content {max-height: 200px;max-width: 100%;overflow: auto;}#sk-container-id-2 input.sk-toggleable__control:checked~label.sk-toggleable__label-arrow:before {content: \"▾\";}#sk-container-id-2 div.sk-estimator input.sk-toggleable__control:checked~label.sk-toggleable__label {background-color: #d4ebff;}#sk-container-id-2 div.sk-label input.sk-toggleable__control:checked~label.sk-toggleable__label {background-color: #d4ebff;}#sk-container-id-2 input.sk-hidden--visually {border: 0;clip: rect(1px 1px 1px 1px);clip: rect(1px, 1px, 1px, 1px);height: 1px;margin: -1px;overflow: hidden;padding: 0;position: absolute;width: 1px;}#sk-container-id-2 div.sk-estimator {font-family: monospace;background-color: #f0f8ff;border: 1px dotted black;border-radius: 0.25em;box-sizing: border-box;margin-bottom: 0.5em;}#sk-container-id-2 div.sk-estimator:hover {background-color: #d4ebff;}#sk-container-id-2 div.sk-parallel-item::after {content: \"\";width: 100%;border-bottom: 1px solid gray;flex-grow: 1;}#sk-container-id-2 div.sk-label:hover label.sk-toggleable__label {background-color: #d4ebff;}#sk-container-id-2 div.sk-serial::before {content: \"\";position: absolute;border-left: 1px solid gray;box-sizing: border-box;top: 0;bottom: 0;left: 50%;z-index: 0;}#sk-container-id-2 div.sk-serial {display: flex;flex-direction: column;align-items: center;background-color: white;padding-right: 0.2em;padding-left: 0.2em;position: relative;}#sk-container-id-2 div.sk-item {position: relative;z-index: 1;}#sk-container-id-2 div.sk-parallel {display: flex;align-items: stretch;justify-content: center;background-color: white;position: relative;}#sk-container-id-2 div.sk-item::before, #sk-container-id-2 div.sk-parallel-item::before {content: \"\";position: absolute;border-left: 1px solid gray;box-sizing: border-box;top: 0;bottom: 0;left: 50%;z-index: -1;}#sk-container-id-2 div.sk-parallel-item {display: flex;flex-direction: column;z-index: 1;position: relative;background-color: white;}#sk-container-id-2 div.sk-parallel-item:first-child::after {align-self: flex-end;width: 50%;}#sk-container-id-2 div.sk-parallel-item:last-child::after {align-self: flex-start;width: 50%;}#sk-container-id-2 div.sk-parallel-item:only-child::after {width: 0;}#sk-container-id-2 div.sk-dashed-wrapped {border: 1px dashed gray;margin: 0 0.4em 0.5em 0.4em;box-sizing: border-box;padding-bottom: 0.4em;background-color: white;}#sk-container-id-2 div.sk-label label {font-family: monospace;font-weight: bold;display: inline-block;line-height: 1.2em;}#sk-container-id-2 div.sk-label-container {text-align: center;}#sk-container-id-2 div.sk-container {/* jupyter's `normalize.less` sets `[hidden] { display: none; }` but bootstrap.min.css set `[hidden] { display: none !important; }` so we also need the `!important` here to be able to override the default hidden behavior on the sphinx rendered scikit-learn.org. See: https://github.com/scikit-learn/scikit-learn/issues/21755 */display: inline-block !important;position: relative;}#sk-container-id-2 div.sk-text-repr-fallback {display: none;}</style><div id=\"sk-container-id-2\" class=\"sk-top-container\"><div class=\"sk-text-repr-fallback\"><pre>StandardScaler()</pre><b>In a Jupyter environment, please rerun this cell to show the HTML representation or trust the notebook. <br />On GitHub, the HTML representation is unable to render, please try loading this page with nbviewer.org.</b></div><div class=\"sk-container\" hidden><div class=\"sk-item\"><div class=\"sk-estimator sk-toggleable\"><input class=\"sk-toggleable__control sk-hidden--visually\" id=\"sk-estimator-id-2\" type=\"checkbox\" checked><label for=\"sk-estimator-id-2\" class=\"sk-toggleable__label sk-toggleable__label-arrow\">StandardScaler</label><div class=\"sk-toggleable__content\"><pre>StandardScaler()</pre></div></div></div></div></div>"
      ],
      "text/plain": [
       "StandardScaler()"
      ]
     },
     "execution_count": 49,
     "metadata": {},
     "output_type": "execute_result"
    }
   ],
   "source": [
    "# обучим модель на тренировочной выборке\n",
    "scaler = StandardScaler()\n",
    "scaler.fit(features_train[numeric])"
   ]
  },
  {
   "cell_type": "code",
   "execution_count": 50,
   "id": "327d9cb2-6aa6-48ca-9c78-8c804d56fc52",
   "metadata": {},
   "outputs": [],
   "source": [
    "# энкодером, который обучен на ТРЕНИРОВОЧНОЙ ВЫБОРКЕ, кодируем все выборки\n",
    "features_train[numeric] = scaler.transform(features_train[numeric])\n",
    "features_test[numeric] = scaler.transform(features_test[numeric])"
   ]
  },
  {
   "cell_type": "markdown",
   "id": "ee153784-3e3e-4784-bd4a-85cdd9510c30",
   "metadata": {},
   "source": [
    "Выведем на экран получившиеся таблицы."
   ]
  },
  {
   "cell_type": "code",
   "execution_count": 51,
   "id": "b970c442-6f22-4a82-88ab-6ad66c7b9065",
   "metadata": {},
   "outputs": [
    {
     "data": {
      "text/html": [
       "<div>\n",
       "<style scoped>\n",
       "    .dataframe tbody tr th:only-of-type {\n",
       "        vertical-align: middle;\n",
       "    }\n",
       "\n",
       "    .dataframe tbody tr th {\n",
       "        vertical-align: top;\n",
       "    }\n",
       "\n",
       "    .dataframe thead th {\n",
       "        text-align: right;\n",
       "    }\n",
       "</style>\n",
       "<table border=\"1\" class=\"dataframe\">\n",
       "  <thead>\n",
       "    <tr style=\"text-align: right;\">\n",
       "      <th></th>\n",
       "      <th>registration_year</th>\n",
       "      <th>power</th>\n",
       "      <th>kilometer</th>\n",
       "      <th>registration_month</th>\n",
       "      <th>vehicle_type_convertible</th>\n",
       "      <th>vehicle_type_coupe</th>\n",
       "      <th>vehicle_type_other</th>\n",
       "      <th>vehicle_type_sedan</th>\n",
       "      <th>vehicle_type_small</th>\n",
       "      <th>vehicle_type_suv</th>\n",
       "      <th>...</th>\n",
       "      <th>brand_smart</th>\n",
       "      <th>brand_sonstige_autos</th>\n",
       "      <th>brand_subaru</th>\n",
       "      <th>brand_suzuki</th>\n",
       "      <th>brand_toyota</th>\n",
       "      <th>brand_trabant</th>\n",
       "      <th>brand_volkswagen</th>\n",
       "      <th>brand_volvo</th>\n",
       "      <th>repaired_no</th>\n",
       "      <th>repaired_yes</th>\n",
       "    </tr>\n",
       "  </thead>\n",
       "  <tbody>\n",
       "    <tr>\n",
       "      <th>160604</th>\n",
       "      <td>0.536666</td>\n",
       "      <td>-0.299852</td>\n",
       "      <td>0.58799</td>\n",
       "      <td>-0.268907</td>\n",
       "      <td>0.0</td>\n",
       "      <td>0.0</td>\n",
       "      <td>0.0</td>\n",
       "      <td>0.0</td>\n",
       "      <td>1.0</td>\n",
       "      <td>0.0</td>\n",
       "      <td>...</td>\n",
       "      <td>0.0</td>\n",
       "      <td>0.0</td>\n",
       "      <td>0.0</td>\n",
       "      <td>0.0</td>\n",
       "      <td>0.0</td>\n",
       "      <td>0.0</td>\n",
       "      <td>0.0</td>\n",
       "      <td>0.0</td>\n",
       "      <td>0.0</td>\n",
       "      <td>0.0</td>\n",
       "    </tr>\n",
       "    <tr>\n",
       "      <th>33915</th>\n",
       "      <td>0.709791</td>\n",
       "      <td>0.439134</td>\n",
       "      <td>0.58799</td>\n",
       "      <td>1.681121</td>\n",
       "      <td>0.0</td>\n",
       "      <td>0.0</td>\n",
       "      <td>0.0</td>\n",
       "      <td>0.0</td>\n",
       "      <td>0.0</td>\n",
       "      <td>0.0</td>\n",
       "      <td>...</td>\n",
       "      <td>0.0</td>\n",
       "      <td>0.0</td>\n",
       "      <td>0.0</td>\n",
       "      <td>0.0</td>\n",
       "      <td>0.0</td>\n",
       "      <td>0.0</td>\n",
       "      <td>0.0</td>\n",
       "      <td>0.0</td>\n",
       "      <td>1.0</td>\n",
       "      <td>0.0</td>\n",
       "    </tr>\n",
       "    <tr>\n",
       "      <th>212926</th>\n",
       "      <td>1.056040</td>\n",
       "      <td>0.303005</td>\n",
       "      <td>0.58799</td>\n",
       "      <td>0.845395</td>\n",
       "      <td>0.0</td>\n",
       "      <td>0.0</td>\n",
       "      <td>0.0</td>\n",
       "      <td>0.0</td>\n",
       "      <td>0.0</td>\n",
       "      <td>0.0</td>\n",
       "      <td>...</td>\n",
       "      <td>0.0</td>\n",
       "      <td>0.0</td>\n",
       "      <td>0.0</td>\n",
       "      <td>0.0</td>\n",
       "      <td>0.0</td>\n",
       "      <td>0.0</td>\n",
       "      <td>0.0</td>\n",
       "      <td>0.0</td>\n",
       "      <td>1.0</td>\n",
       "      <td>0.0</td>\n",
       "    </tr>\n",
       "    <tr>\n",
       "      <th>61954</th>\n",
       "      <td>0.363541</td>\n",
       "      <td>0.439134</td>\n",
       "      <td>0.58799</td>\n",
       "      <td>0.845395</td>\n",
       "      <td>0.0</td>\n",
       "      <td>1.0</td>\n",
       "      <td>0.0</td>\n",
       "      <td>0.0</td>\n",
       "      <td>0.0</td>\n",
       "      <td>0.0</td>\n",
       "      <td>...</td>\n",
       "      <td>0.0</td>\n",
       "      <td>0.0</td>\n",
       "      <td>0.0</td>\n",
       "      <td>0.0</td>\n",
       "      <td>0.0</td>\n",
       "      <td>0.0</td>\n",
       "      <td>0.0</td>\n",
       "      <td>0.0</td>\n",
       "      <td>1.0</td>\n",
       "      <td>0.0</td>\n",
       "    </tr>\n",
       "    <tr>\n",
       "      <th>77085</th>\n",
       "      <td>1.056040</td>\n",
       "      <td>0.769734</td>\n",
       "      <td>-0.09827</td>\n",
       "      <td>0.845395</td>\n",
       "      <td>0.0</td>\n",
       "      <td>0.0</td>\n",
       "      <td>0.0</td>\n",
       "      <td>1.0</td>\n",
       "      <td>0.0</td>\n",
       "      <td>0.0</td>\n",
       "      <td>...</td>\n",
       "      <td>0.0</td>\n",
       "      <td>0.0</td>\n",
       "      <td>0.0</td>\n",
       "      <td>0.0</td>\n",
       "      <td>0.0</td>\n",
       "      <td>0.0</td>\n",
       "      <td>1.0</td>\n",
       "      <td>0.0</td>\n",
       "      <td>1.0</td>\n",
       "      <td>0.0</td>\n",
       "    </tr>\n",
       "  </tbody>\n",
       "</table>\n",
       "<p>5 rows × 306 columns</p>\n",
       "</div>"
      ],
      "text/plain": [
       "        registration_year     power  kilometer  registration_month  \\\n",
       "160604           0.536666 -0.299852    0.58799           -0.268907   \n",
       "33915            0.709791  0.439134    0.58799            1.681121   \n",
       "212926           1.056040  0.303005    0.58799            0.845395   \n",
       "61954            0.363541  0.439134    0.58799            0.845395   \n",
       "77085            1.056040  0.769734   -0.09827            0.845395   \n",
       "\n",
       "        vehicle_type_convertible  vehicle_type_coupe  vehicle_type_other  \\\n",
       "160604                       0.0                 0.0                 0.0   \n",
       "33915                        0.0                 0.0                 0.0   \n",
       "212926                       0.0                 0.0                 0.0   \n",
       "61954                        0.0                 1.0                 0.0   \n",
       "77085                        0.0                 0.0                 0.0   \n",
       "\n",
       "        vehicle_type_sedan  vehicle_type_small  vehicle_type_suv  ...  \\\n",
       "160604                 0.0                 1.0               0.0  ...   \n",
       "33915                  0.0                 0.0               0.0  ...   \n",
       "212926                 0.0                 0.0               0.0  ...   \n",
       "61954                  0.0                 0.0               0.0  ...   \n",
       "77085                  1.0                 0.0               0.0  ...   \n",
       "\n",
       "        brand_smart  brand_sonstige_autos  brand_subaru  brand_suzuki  \\\n",
       "160604          0.0                   0.0           0.0           0.0   \n",
       "33915           0.0                   0.0           0.0           0.0   \n",
       "212926          0.0                   0.0           0.0           0.0   \n",
       "61954           0.0                   0.0           0.0           0.0   \n",
       "77085           0.0                   0.0           0.0           0.0   \n",
       "\n",
       "        brand_toyota  brand_trabant  brand_volkswagen  brand_volvo  \\\n",
       "160604           0.0            0.0               0.0          0.0   \n",
       "33915            0.0            0.0               0.0          0.0   \n",
       "212926           0.0            0.0               0.0          0.0   \n",
       "61954            0.0            0.0               0.0          0.0   \n",
       "77085            0.0            0.0               1.0          0.0   \n",
       "\n",
       "        repaired_no  repaired_yes  \n",
       "160604          0.0           0.0  \n",
       "33915           1.0           0.0  \n",
       "212926          1.0           0.0  \n",
       "61954           1.0           0.0  \n",
       "77085           1.0           0.0  \n",
       "\n",
       "[5 rows x 306 columns]"
      ]
     },
     "metadata": {},
     "output_type": "display_data"
    },
    {
     "data": {
      "text/html": [
       "<div>\n",
       "<style scoped>\n",
       "    .dataframe tbody tr th:only-of-type {\n",
       "        vertical-align: middle;\n",
       "    }\n",
       "\n",
       "    .dataframe tbody tr th {\n",
       "        vertical-align: top;\n",
       "    }\n",
       "\n",
       "    .dataframe thead th {\n",
       "        text-align: right;\n",
       "    }\n",
       "</style>\n",
       "<table border=\"1\" class=\"dataframe\">\n",
       "  <thead>\n",
       "    <tr style=\"text-align: right;\">\n",
       "      <th></th>\n",
       "      <th>registration_year</th>\n",
       "      <th>power</th>\n",
       "      <th>kilometer</th>\n",
       "      <th>registration_month</th>\n",
       "      <th>vehicle_type_convertible</th>\n",
       "      <th>vehicle_type_coupe</th>\n",
       "      <th>vehicle_type_other</th>\n",
       "      <th>vehicle_type_sedan</th>\n",
       "      <th>vehicle_type_small</th>\n",
       "      <th>vehicle_type_suv</th>\n",
       "      <th>...</th>\n",
       "      <th>brand_smart</th>\n",
       "      <th>brand_sonstige_autos</th>\n",
       "      <th>brand_subaru</th>\n",
       "      <th>brand_suzuki</th>\n",
       "      <th>brand_toyota</th>\n",
       "      <th>brand_trabant</th>\n",
       "      <th>brand_volkswagen</th>\n",
       "      <th>brand_volvo</th>\n",
       "      <th>repaired_no</th>\n",
       "      <th>repaired_yes</th>\n",
       "    </tr>\n",
       "  </thead>\n",
       "  <tbody>\n",
       "    <tr>\n",
       "      <th>117362</th>\n",
       "      <td>-0.675207</td>\n",
       "      <td>-0.299852</td>\n",
       "      <td>0.58799</td>\n",
       "      <td>0.566819</td>\n",
       "      <td>0.0</td>\n",
       "      <td>1.0</td>\n",
       "      <td>0.0</td>\n",
       "      <td>0.0</td>\n",
       "      <td>0.0</td>\n",
       "      <td>0.0</td>\n",
       "      <td>...</td>\n",
       "      <td>0.0</td>\n",
       "      <td>0.0</td>\n",
       "      <td>0.0</td>\n",
       "      <td>0.0</td>\n",
       "      <td>0.0</td>\n",
       "      <td>0.0</td>\n",
       "      <td>0.0</td>\n",
       "      <td>0.0</td>\n",
       "      <td>0.0</td>\n",
       "      <td>0.0</td>\n",
       "    </tr>\n",
       "    <tr>\n",
       "      <th>245259</th>\n",
       "      <td>0.709791</td>\n",
       "      <td>2.014342</td>\n",
       "      <td>0.58799</td>\n",
       "      <td>-1.383208</td>\n",
       "      <td>1.0</td>\n",
       "      <td>0.0</td>\n",
       "      <td>0.0</td>\n",
       "      <td>0.0</td>\n",
       "      <td>0.0</td>\n",
       "      <td>0.0</td>\n",
       "      <td>...</td>\n",
       "      <td>0.0</td>\n",
       "      <td>0.0</td>\n",
       "      <td>0.0</td>\n",
       "      <td>0.0</td>\n",
       "      <td>0.0</td>\n",
       "      <td>0.0</td>\n",
       "      <td>0.0</td>\n",
       "      <td>0.0</td>\n",
       "      <td>1.0</td>\n",
       "      <td>0.0</td>\n",
       "    </tr>\n",
       "    <tr>\n",
       "      <th>256307</th>\n",
       "      <td>0.536666</td>\n",
       "      <td>2.947799</td>\n",
       "      <td>0.58799</td>\n",
       "      <td>1.402545</td>\n",
       "      <td>0.0</td>\n",
       "      <td>0.0</td>\n",
       "      <td>0.0</td>\n",
       "      <td>1.0</td>\n",
       "      <td>0.0</td>\n",
       "      <td>0.0</td>\n",
       "      <td>...</td>\n",
       "      <td>0.0</td>\n",
       "      <td>0.0</td>\n",
       "      <td>0.0</td>\n",
       "      <td>0.0</td>\n",
       "      <td>0.0</td>\n",
       "      <td>0.0</td>\n",
       "      <td>0.0</td>\n",
       "      <td>0.0</td>\n",
       "      <td>1.0</td>\n",
       "      <td>0.0</td>\n",
       "    </tr>\n",
       "    <tr>\n",
       "      <th>15674</th>\n",
       "      <td>-0.502083</td>\n",
       "      <td>0.030747</td>\n",
       "      <td>0.58799</td>\n",
       "      <td>-1.661784</td>\n",
       "      <td>0.0</td>\n",
       "      <td>0.0</td>\n",
       "      <td>1.0</td>\n",
       "      <td>0.0</td>\n",
       "      <td>0.0</td>\n",
       "      <td>0.0</td>\n",
       "      <td>...</td>\n",
       "      <td>0.0</td>\n",
       "      <td>0.0</td>\n",
       "      <td>0.0</td>\n",
       "      <td>0.0</td>\n",
       "      <td>0.0</td>\n",
       "      <td>0.0</td>\n",
       "      <td>0.0</td>\n",
       "      <td>0.0</td>\n",
       "      <td>1.0</td>\n",
       "      <td>0.0</td>\n",
       "    </tr>\n",
       "    <tr>\n",
       "      <th>56946</th>\n",
       "      <td>-0.328958</td>\n",
       "      <td>-0.786027</td>\n",
       "      <td>0.58799</td>\n",
       "      <td>-0.547482</td>\n",
       "      <td>0.0</td>\n",
       "      <td>0.0</td>\n",
       "      <td>0.0</td>\n",
       "      <td>0.0</td>\n",
       "      <td>0.0</td>\n",
       "      <td>0.0</td>\n",
       "      <td>...</td>\n",
       "      <td>0.0</td>\n",
       "      <td>0.0</td>\n",
       "      <td>0.0</td>\n",
       "      <td>0.0</td>\n",
       "      <td>0.0</td>\n",
       "      <td>0.0</td>\n",
       "      <td>0.0</td>\n",
       "      <td>0.0</td>\n",
       "      <td>1.0</td>\n",
       "      <td>0.0</td>\n",
       "    </tr>\n",
       "  </tbody>\n",
       "</table>\n",
       "<p>5 rows × 306 columns</p>\n",
       "</div>"
      ],
      "text/plain": [
       "        registration_year     power  kilometer  registration_month  \\\n",
       "117362          -0.675207 -0.299852    0.58799            0.566819   \n",
       "245259           0.709791  2.014342    0.58799           -1.383208   \n",
       "256307           0.536666  2.947799    0.58799            1.402545   \n",
       "15674           -0.502083  0.030747    0.58799           -1.661784   \n",
       "56946           -0.328958 -0.786027    0.58799           -0.547482   \n",
       "\n",
       "        vehicle_type_convertible  vehicle_type_coupe  vehicle_type_other  \\\n",
       "117362                       0.0                 1.0                 0.0   \n",
       "245259                       1.0                 0.0                 0.0   \n",
       "256307                       0.0                 0.0                 0.0   \n",
       "15674                        0.0                 0.0                 1.0   \n",
       "56946                        0.0                 0.0                 0.0   \n",
       "\n",
       "        vehicle_type_sedan  vehicle_type_small  vehicle_type_suv  ...  \\\n",
       "117362                 0.0                 0.0               0.0  ...   \n",
       "245259                 0.0                 0.0               0.0  ...   \n",
       "256307                 1.0                 0.0               0.0  ...   \n",
       "15674                  0.0                 0.0               0.0  ...   \n",
       "56946                  0.0                 0.0               0.0  ...   \n",
       "\n",
       "        brand_smart  brand_sonstige_autos  brand_subaru  brand_suzuki  \\\n",
       "117362          0.0                   0.0           0.0           0.0   \n",
       "245259          0.0                   0.0           0.0           0.0   \n",
       "256307          0.0                   0.0           0.0           0.0   \n",
       "15674           0.0                   0.0           0.0           0.0   \n",
       "56946           0.0                   0.0           0.0           0.0   \n",
       "\n",
       "        brand_toyota  brand_trabant  brand_volkswagen  brand_volvo  \\\n",
       "117362           0.0            0.0               0.0          0.0   \n",
       "245259           0.0            0.0               0.0          0.0   \n",
       "256307           0.0            0.0               0.0          0.0   \n",
       "15674            0.0            0.0               0.0          0.0   \n",
       "56946            0.0            0.0               0.0          0.0   \n",
       "\n",
       "        repaired_no  repaired_yes  \n",
       "117362          0.0           0.0  \n",
       "245259          1.0           0.0  \n",
       "256307          1.0           0.0  \n",
       "15674           1.0           0.0  \n",
       "56946           1.0           0.0  \n",
       "\n",
       "[5 rows x 306 columns]"
      ]
     },
     "metadata": {},
     "output_type": "display_data"
    }
   ],
   "source": [
    "display(features_train.head())\n",
    "display(features_test.head())"
   ]
  },
  {
   "cell_type": "markdown",
   "id": "e309854b-9554-450e-aa5b-05c7fe708c8e",
   "metadata": {},
   "source": [
    "<h3>RMSE"
   ]
  },
  {
   "cell_type": "markdown",
   "id": "fbe0dd4f",
   "metadata": {},
   "source": [
    "Напишем функцию для нахождения RMSE."
   ]
  },
  {
   "cell_type": "code",
   "execution_count": 52,
   "id": "960c2962-2dbd-4fda-bda5-66678726f20a",
   "metadata": {},
   "outputs": [],
   "source": [
    "def rmse(true, predicted):\n",
    "    return np.sqrt(mse(true, predicted))"
   ]
  },
  {
   "cell_type": "markdown",
   "id": "eb1bd0de-9ae0-4e94-8165-1690fb65e435",
   "metadata": {},
   "source": [
    "<h3>DUMMY"
   ]
  },
  {
   "cell_type": "markdown",
   "id": "7075c34b",
   "metadata": {},
   "source": [
    "Исследуем дамми-модель чтобы понять примерное значение, от которого мы хотим отталкиваться."
   ]
  },
  {
   "cell_type": "code",
   "execution_count": 53,
   "id": "8edaf9ef-5cc9-4df3-920c-4b9db1ddf2d5",
   "metadata": {},
   "outputs": [
    {
     "data": {
      "text/plain": [
       "4579.523165660913"
      ]
     },
     "execution_count": 53,
     "metadata": {},
     "output_type": "execute_result"
    }
   ],
   "source": [
    "dummy_clf = DummyRegressor()\n",
    "dummy_clf.fit(features_train, target_train)\n",
    "predicted = dummy_clf.predict(features_test)\n",
    "rmse(target_test, predicted)"
   ]
  },
  {
   "cell_type": "markdown",
   "id": "84cd8a59-e205-4407-a9a1-297f42badf03",
   "metadata": {},
   "source": [
    "<h3>Подбор гиперпараметров"
   ]
  },
  {
   "cell_type": "markdown",
   "id": "df5a08e8",
   "metadata": {},
   "source": [
    "Создадим функцию для подбора гиперпараметров с помощью Optuna для:\n",
    "\n",
    "- RandomForestRegressor\n",
    "- Lasso\n",
    "- Ridge\n",
    "- LGBMRegressor\n",
    "- CatBoostRegressor"
   ]
  },
  {
   "cell_type": "code",
   "execution_count": 54,
   "id": "979b48a1-2c1e-46c4-90df-692d2f5a6df2",
   "metadata": {},
   "outputs": [],
   "source": [
    "# подбор гиперпараметров\n",
    "def objective(trial, model_name, features, target):\n",
    "    if model_name == 'RandomForest':\n",
    "        n_estimators = trial.suggest_int('n_estimators', 2, 500, 100)\n",
    "        max_depth = trial.suggest_int('max_depth', 2, 7)\n",
    "        min_samples_split = trial.suggest_int('min_samples_split', 2, 10)\n",
    "        max_features = trial.suggest_categorical('max_features', ['sqrt', 'log2'])\n",
    "        model = RandomForestRegressor(n_estimators=n_estimators, \n",
    "                                      max_depth=max_depth, \n",
    "                                      min_samples_split=min_samples_split, \n",
    "                                      max_features=max_features, \n",
    "                                      random_state=SEED)\n",
    "    elif model_name == 'Ridge':\n",
    "        alpha = trial.suggest_loguniform('alpha', 1, 5)\n",
    "        model = Ridge(alpha=alpha)\n",
    "    elif model_name == 'Lasso':\n",
    "        alpha = trial.suggest_loguniform('alpha', 1, 5)\n",
    "        model = Lasso(alpha=alpha)\n",
    "    elif model_name == 'LGBM':\n",
    "        n_estimators = trial.suggest_int('n_estimators', 10, 500, 50)\n",
    "        learning_rate = trial.suggest_float('learning_rate', 0.001, 0.2)\n",
    "        max_depth = trial.suggest_int('max_depth', 2, 7)\n",
    "        num_leaves = trial.suggest_int('num_leaves', 2, 10)\n",
    "        min_child_samples = trial.suggest_int('min_child_samples', 1, 20)\n",
    "        model = LGBMRegressor(n_estimators=n_estimators, \n",
    "                              learning_rate=learning_rate, \n",
    "                              max_depth=max_depth,\n",
    "                              num_leaves=num_leaves, \n",
    "                              min_child_samples=min_child_samples,\n",
    "                              verbose=0, \n",
    "                              n_jobs=-1, \n",
    "                              force_row_wise=True,\n",
    "                              random_state=SEED)\n",
    "    elif model_name == 'CatBoost':\n",
    "        n_estimators = trial.suggest_int('n_estimators', 10, 500, 50)\n",
    "        learning_rate = trial.suggest_float('learning_rate', 0.001, 1)\n",
    "        depth = trial.suggest_int('depth', 2, 7)\n",
    "        model = CatBoostRegressor(n_estimators=n_estimators, \n",
    "                                  learning_rate=learning_rate, \n",
    "                                  depth=depth, \n",
    "                                  cat_features=categorial,\n",
    "                                  verbose=False)\n",
    "\n",
    "    elif model_name == 'LinearRegression':\n",
    "        model = LinearRegression()\n",
    "\n",
    "    else:\n",
    "        raise ValueError(f\"Invalid model_name: {model_name}\")\n",
    "\n",
    "    return -cross_val_score(model, \n",
    "                             features, \n",
    "                             target, \n",
    "                             cv=3, \n",
    "                             scoring=make_scorer(rmse, greater_is_better=False)).mean()"
   ]
  },
  {
   "cell_type": "code",
   "execution_count": 55,
   "id": "c7519bdd-7428-45f9-b00f-16ba50dd2bcd",
   "metadata": {},
   "outputs": [],
   "source": [
    "# оптуна\n",
    "def optimize_model_params(model_name, features, target, trials=10):\n",
    "    if model_name == \"LinearRegression\":\n",
    "        return {}\n",
    "    \n",
    "    sampler = optuna.samplers.TPESampler(seed=SEED)\n",
    "    study = optuna.create_study(direction='minimize', sampler=sampler)\n",
    "    study.optimize(lambda trial: objective(trial, model_name, features, target), n_trials=trials)\n",
    "    \n",
    "    return study.best_params"
   ]
  },
  {
   "cell_type": "markdown",
   "id": "3fea3c47-de78-423b-a630-116badba933a",
   "metadata": {},
   "source": [
    "<h3> Обучение моделей"
   ]
  },
  {
   "cell_type": "markdown",
   "id": "7a794146-c289-45e3-96d6-ba8b34d442d4",
   "metadata": {},
   "source": [
    "Создадим класс, функции которого будут:\n",
    "\n",
    "- Выполнять `fit` для модели\n",
    "- Выполнять `predict` для модели\n",
    "- Вычислять rmse\n",
    "- Выводить таблицу с лучшими гиперпараметрами, временем на `fit`, временем на `predict` и значением `rmse` модели"
   ]
  },
  {
   "cell_type": "code",
   "execution_count": 56,
   "id": "cfab0f2f-422c-4ddb-bd6d-88b525a4b27b",
   "metadata": {},
   "outputs": [],
   "source": [
    "class ModelResults:\n",
    "    def __init__(self, name, model, hyperparameters=None):\n",
    "        self.name = name\n",
    "        self.model = model.set_params(**hyperparameters) if hyperparameters else model\n",
    "        self.hyperparameters = hyperparameters or {}\n",
    "\n",
    "    def fit(self, features, target):\n",
    "        start_time = time.time()\n",
    "        self.model.fit(features, target)\n",
    "        self.fitTime = time.time() - start_time\n",
    "\n",
    "    def predict(self, features, target):\n",
    "        start_time = time.time()\n",
    "        predicted = self.model.predict(features)\n",
    "        self.predictedTime = time.time() - start_time\n",
    "        self.rmse = rmse(target, predicted)\n",
    "        \n",
    "    # возвращаем имя модели, её лучшие гиперпараметры, время на `fit`, время на `predict`, значение rmse  \n",
    "    def getResult(self):\n",
    "        hyperparameters_str = str(self.hyperparameters)\n",
    "        return self.name, hyperparameters_str, self.fitTime, self.predictedTime, self.rmse\n",
    "    \n",
    "    # создаем таблицу\n",
    "    @classmethod\n",
    "    def display_results(cls, results):\n",
    "        df = pd.DataFrame(results, columns=[\"Имя модели\", \n",
    "                                            \"Гиперпараметры\", \n",
    "                                            \"Время обучения (сек)\", \n",
    "                                            \"Время предсказания (сек)\", \n",
    "                                            \"RMSE\"])\n",
    "\n",
    "    # форматируем гиперпараметры\n",
    "        df[\"Гиперпараметры\"] = df[\"Гиперпараметры\"]\\\n",
    "        .apply(lambda x: '\\n'.join([f\"{k}: {v}\" for k, v in eval(x).items()]))\n",
    "\n",
    "    # округляем метрики\n",
    "        df[\"Время обучения (сек)\"] = df[\"Время обучения (сек)\"].round(3)\n",
    "        df[\"Время предсказания (сек)\"] = df[\"Время предсказания (сек)\"].round(3)\n",
    "        df[\"RMSE\"] = df[\"RMSE\"].round(4)\n",
    "\n",
    "    # выводим таблицу\n",
    "        table = tabulate(df, headers='keys', tablefmt='grid', showindex=False)\n",
    "        print(table)"
   ]
  },
  {
   "cell_type": "markdown",
   "id": "2d617800-19c8-436c-af3c-150712cb2560",
   "metadata": {},
   "source": [
    "`LightGBM` может эффективно работать с категориальными данными без необходимости преобразования их в форму `one-hot encoding`.\n",
    "Для моделей на основе деревьев решений, включая `LightGBM`, масштабирование признаков обычно не требуется, поскольку эти модели не чувствительны к масштабу признаков.\n",
    "\n",
    "Прогоним через модель некодированные данные."
   ]
  },
  {
   "cell_type": "markdown",
   "id": "11126e83-fcbc-4575-9b54-92bfa4cc1285",
   "metadata": {},
   "source": [
    "`CatBoost` может автоматически обрабатывать категориальные признаки, которые представлены в виде строк или чисел. Чтобы `CatBoost` знал, какие из признаков являются категориальными, мы должны указать их с помощью параметра `cat_features` при обучении. Для числовых признаков никакое дополнительное кодирование не требуется.\n",
    "\n",
    "Обучим `CatBoost` на некодированных данных."
   ]
  },
  {
   "cell_type": "code",
   "execution_count": 57,
   "id": "3c175efc-7507-4629-9253-ca3c30402870",
   "metadata": {},
   "outputs": [],
   "source": [
    "model_names = ['RandomForest', 'Ridge', 'Lasso', 'LinearRegression', 'CatBoost', 'LGBM']\n",
    "datasets = {\n",
    "    'RandomForest': features_train,\n",
    "    'Ridge': features_train,\n",
    "    'Lasso': features_train,\n",
    "    'LinearRegression': features_train,\n",
    "    'CatBoost': features_train_catb,\n",
    "    'LGBM': features_train_lgbm\n",
    "}\n",
    "\n",
    "best_params_dict = {name: optimize_model_params(name, datasets[name], target_train) for name in model_names}\n",
    "\n",
    "models_dict = {\n",
    "    \"RandomForest\": RandomForestRegressor(random_state=SEED),\n",
    "    \"Ridge\": Ridge(random_state=SEED),\n",
    "    \"Lasso\": Lasso(random_state=SEED),\n",
    "    \"LinearRegression\": LinearRegression(),\n",
    "    \"LGBM\": LGBMRegressor(random_state=SEED, force_row_wise=True),\n",
    "    \"CatBoost\": CatBoostRegressor(random_state=SEED, cat_features=categorial, verbose=100)\n",
    "}\n",
    "\n",
    "results = []\n",
    "\n",
    "for model_name in model_names:\n",
    "    model_result = ModelResults(model_name, models_dict[model_name], best_params_dict[model_name])\n",
    "    \n",
    "    # Не обучаем модель и не делаем предсказания здесь.\n",
    "    # Вместо этого просто записываем RMSE, который был получен в Optuna.\n",
    "    rmse_from_optuna = objective(optuna.trial.FixedTrial(best_params_dict[model_name]), model_name, datasets[model_name], target_train)\n",
    "    \n",
    "    # Добавляем результат в список\n",
    "    results.append((model_name, str(best_params_dict[model_name]), rmse_from_optuna))"
   ]
  },
  {
   "cell_type": "markdown",
   "id": "828ddd0b-4fad-492d-8479-5e010425a41f",
   "metadata": {},
   "source": [
    "<h3> Все модели"
   ]
  },
  {
   "cell_type": "markdown",
   "id": "9ea62c79-73a9-475f-b2cd-ce283db01d64",
   "metadata": {},
   "source": [
    "Теперь взглянем на результаты всех моделей вместе."
   ]
  },
  {
   "cell_type": "code",
   "execution_count": 78,
   "id": "7b655d60-cbe0-4e2f-9bf0-5a4067d330d2",
   "metadata": {},
   "outputs": [
    {
     "data": {
      "text/html": [
       "<div>\n",
       "<style scoped>\n",
       "    .dataframe tbody tr th:only-of-type {\n",
       "        vertical-align: middle;\n",
       "    }\n",
       "\n",
       "    .dataframe tbody tr th {\n",
       "        vertical-align: top;\n",
       "    }\n",
       "\n",
       "    .dataframe thead th {\n",
       "        text-align: right;\n",
       "    }\n",
       "</style>\n",
       "<table border=\"1\" class=\"dataframe\">\n",
       "  <thead>\n",
       "    <tr style=\"text-align: right;\">\n",
       "      <th></th>\n",
       "      <th>Имя модели</th>\n",
       "      <th>Гиперпараметры</th>\n",
       "      <th>RMSE</th>\n",
       "      <th></th>\n",
       "      <th></th>\n",
       "    </tr>\n",
       "  </thead>\n",
       "  <tbody>\n",
       "    <tr>\n",
       "      <th>0</th>\n",
       "      <td>RandomForest</td>\n",
       "      <td>{'n_estimators': 202, 'max_depth': 7, 'min_samples_split': 7, 'max_features': 'sqrt'}</td>\n",
       "      <td>N/A</td>\n",
       "      <td>N/A</td>\n",
       "      <td>-3117.752022</td>\n",
       "    </tr>\n",
       "    <tr>\n",
       "      <th>1</th>\n",
       "      <td>Ridge</td>\n",
       "      <td>{'alpha': 1.3444781004193935}</td>\n",
       "      <td>N/A</td>\n",
       "      <td>N/A</td>\n",
       "      <td>-2374.844118</td>\n",
       "    </tr>\n",
       "    <tr>\n",
       "      <th>2</th>\n",
       "      <td>Lasso</td>\n",
       "      <td>{'alpha': 1.3444781004193935}</td>\n",
       "      <td>N/A</td>\n",
       "      <td>N/A</td>\n",
       "      <td>-2421.293770</td>\n",
       "    </tr>\n",
       "    <tr>\n",
       "      <th>3</th>\n",
       "      <td>LinearRegression</td>\n",
       "      <td>{}</td>\n",
       "      <td>N/A</td>\n",
       "      <td>N/A</td>\n",
       "      <td>-2374.931872</td>\n",
       "    </tr>\n",
       "    <tr>\n",
       "      <th>4</th>\n",
       "      <td>CatBoost</td>\n",
       "      <td>{'n_estimators': 460, 'learning_rate': 0.6535239197746993, 'depth': 6}</td>\n",
       "      <td>N/A</td>\n",
       "      <td>N/A</td>\n",
       "      <td>-1543.636978</td>\n",
       "    </tr>\n",
       "    <tr>\n",
       "      <th>5</th>\n",
       "      <td>LGBM</td>\n",
       "      <td>{'n_estimators': 360, 'learning_rate': 0.19880890259409245, 'max_depth': 6, 'num_leaves': 9, 'mi...</td>\n",
       "      <td>N/A</td>\n",
       "      <td>N/A</td>\n",
       "      <td>-1527.645498</td>\n",
       "    </tr>\n",
       "  </tbody>\n",
       "</table>\n",
       "</div>"
      ],
      "text/plain": [
       "         Имя модели  \\\n",
       "0      RandomForest   \n",
       "1             Ridge   \n",
       "2             Lasso   \n",
       "3  LinearRegression   \n",
       "4          CatBoost   \n",
       "5              LGBM   \n",
       "\n",
       "                                                                                        Гиперпараметры  \\\n",
       "0                {'n_estimators': 202, 'max_depth': 7, 'min_samples_split': 7, 'max_features': 'sqrt'}   \n",
       "1                                                                        {'alpha': 1.3444781004193935}   \n",
       "2                                                                        {'alpha': 1.3444781004193935}   \n",
       "3                                                                                                   {}   \n",
       "4                               {'n_estimators': 460, 'learning_rate': 0.6535239197746993, 'depth': 6}   \n",
       "5  {'n_estimators': 360, 'learning_rate': 0.19880890259409245, 'max_depth': 6, 'num_leaves': 9, 'mi...   \n",
       "\n",
       "  RMSE                    \n",
       "0  N/A  N/A -3117.752022  \n",
       "1  N/A  N/A -2374.844118  \n",
       "2  N/A  N/A -2421.293770  \n",
       "3  N/A  N/A -2374.931872  \n",
       "4  N/A  N/A -1543.636978  \n",
       "5  N/A  N/A -1527.645498  "
      ]
     },
     "execution_count": 78,
     "metadata": {},
     "output_type": "execute_result"
    }
   ],
   "source": [
    "pd.DataFrame(results, columns=['Имя модели', 'Гиперпараметры', 'RMSE'])"
   ]
  },
  {
   "cell_type": "markdown",
   "id": "8e26b5f1-f51b-4cdc-9ff3-fdc851202e94",
   "metadata": {},
   "source": [
    "Сразу понятно что `RandomForestRegressor`, `Ridge`,`Lasso` и `LinearRegression` нам не подойдут, их `RMSE` выше 2500, что противоречит поставленным условиям задачи.  \n",
    "\n",
    "Значение метрики `RMSE` выше у `CatBoost` - 1464.5, однако время обучения и предсказания лучше у `LGBMRegressor` - 0.738 и 0.409 секунд соответственно. Также `RMSE` у `LGBMRegressor` не так далеко ушло от `CatBoost` - всего лишь на 100 пунктов больше. \n",
    "\n",
    "Так как `LGBMRegressor` выигрывает по двум параметрам, возьмём его как итоговую модель и применим к тестовой выборке."
   ]
  },
  {
   "cell_type": "code",
   "execution_count": 79,
   "id": "81c78dea-0441-4167-9e5d-397231296ee5",
   "metadata": {},
   "outputs": [
    {
     "name": "stdout",
     "output_type": "stream",
     "text": [
      "[LightGBM] [Info] Total Bins 567\n",
      "[LightGBM] [Info] Number of data points in the train set: 198838, number of used features: 10\n",
      "[LightGBM] [Info] Start training from score 4846.215995\n",
      "+--------------+------------------------------------+------------------------+----------------------------+---------+\n",
      "| Имя модели   | Гиперпараметры                     |   Время обучения (сек) |   Время предсказания (сек) |    RMSE |\n",
      "+==============+====================================+========================+============================+=========+\n",
      "| LGBM         | n_estimators: 360                  |                  0.909 |                      0.084 | 1518.63 |\n",
      "|              | learning_rate: 0.19880890259409245 |                        |                            |         |\n",
      "|              | max_depth: 6                       |                        |                            |         |\n",
      "|              | num_leaves: 9                      |                        |                            |         |\n",
      "|              | min_child_samples: 4               |                        |                            |         |\n",
      "+--------------+------------------------------------+------------------------+----------------------------+---------+\n"
     ]
    }
   ],
   "source": [
    "best_model_name = \"LGBM\"\n",
    "best_model = models_dict[best_model_name]\n",
    "best_params = best_params_dict[best_model_name]\n",
    "\n",
    "best_model_instance = ModelResults(best_model_name, best_model, best_params)\n",
    "best_model_instance.fit(datasets[best_model_name], target_train)\n",
    "best_model_instance.predict(features_test_lgbm, target_test)\n",
    "\n",
    "results = [best_model_instance.getResult()]\n",
    "ModelResults.display_results(results)"
   ]
  },
  {
   "cell_type": "markdown",
   "id": "48252592",
   "metadata": {},
   "source": [
    "<a id='4'></a>"
   ]
  },
  {
   "cell_type": "markdown",
   "id": "9234eb1e",
   "metadata": {},
   "source": [
    "<h2> Вывод"
   ]
  },
  {
   "cell_type": "markdown",
   "id": "c6958f1e-7115-4489-b49c-3e6b3249ba8b",
   "metadata": {},
   "source": [
    "Целью нашего проекта было построить модель, которая умеет определять рыночную стоимость автомобиля. \n",
    "\n",
    "При итоговом выборе модели нам следует опираться на критерии, которые важны заказчику:\n",
    "\n",
    "- Качество предсказания\n",
    "- Время обучения модели\n",
    "- Время предсказания модели\n",
    "\n",
    "Мы изучили несколько моделей:\n",
    "\n",
    "- RandomForestRegressor\n",
    "- LinearRegression\n",
    "- Lasso\n",
    "- Ridge\n",
    "- LGBMRegressor\n",
    "- CatBoostRegressor\n",
    "\n",
    "При обучении на тренировочной выборке:\n",
    "\n",
    "- Простые модели `RandomForestRegressor`, `LinearRegression`, `Lasso` и `Ridge` нам не подошли из-за низкого показателя `RMSE`.\n",
    "\n",
    "- Из бустинговых моделей лучшее `RMSE` было у `CatBoost`, но по затраченному времени на обучение и предсказание выделилась `LGBMRegressor` с гиперпараметрами `n_estimators = 360`, `learning_rate = 0.19880890259409245`, `max_depth = 6`, `num_leaves = 9` и `min_child_samples = 4`.\n",
    "\n",
    "Мы выбрали `LGBMRegressor` как итоговую модель и оценили её на тестовой выборке, получив такие показатели:\n",
    "\n",
    "- Время на обучение: 0.674 секунд\n",
    "- Время на предсказание: 0.14 секунд\n",
    "- RMSE: 1581.75\n",
    "\n",
    "Следовательно, мы можем порекомендовать заказчику использовать модель `LGBMRegressor`, как самую подходящую под все критерии."
   ]
  }
 ],
 "metadata": {
  "kernelspec": {
   "display_name": "Python 3 (ipykernel)",
   "language": "python",
   "name": "python3"
  },
  "language_info": {
   "codemirror_mode": {
    "name": "ipython",
    "version": 3
   },
   "file_extension": ".py",
   "mimetype": "text/x-python",
   "name": "python",
   "nbconvert_exporter": "python",
   "pygments_lexer": "ipython3",
   "version": "3.11.6"
  },
  "toc": {
   "base_numbering": 1,
   "nav_menu": {},
   "number_sections": true,
   "sideBar": true,
   "skip_h1_title": true,
   "title_cell": "",
   "title_sidebar": "",
   "toc_cell": false,
   "toc_position": {
    "height": "calc(100% - 180px)",
    "left": "10px",
    "top": "150px",
    "width": "230.4px"
   },
   "toc_section_display": true,
   "toc_window_display": true
  }
 },
 "nbformat": 4,
 "nbformat_minor": 5
}
